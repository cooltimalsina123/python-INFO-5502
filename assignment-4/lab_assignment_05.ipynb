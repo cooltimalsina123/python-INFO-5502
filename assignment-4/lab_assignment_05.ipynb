{
 "cells": [
  {
   "cell_type": "markdown",
   "metadata": {},
   "source": [
    "## The fifth Lab-assignment (07/29/2022 11:59'AM' - 08/02/2022 11:59PM, 50 points in total)"
   ]
  },
  {
   "cell_type": "markdown",
   "metadata": {},
   "source": [
    "The purpose of this exercise is to understand Data Visualization, we will practice how to create visualizations for different datasets bu using different tools."
   ]
  },
  {
   "cell_type": "markdown",
   "metadata": {},
   "source": [
    "Question 1 (50 points). In this questions, you will design a visualization for a small data set and provide a rigorous rationale for your design choices. \n",
    "\n",
    "Every 10 years, the census bureau documents the demographic make-up of the United States, influencing everything from congressional districting to social services. This dataset contains a high-level summary of census data for two years a century apart: 1900 and 2000. The data is a CSV (comma-separated values) file that describes the U.S. population in terms of year, reported sex (1: male, 2: female), age group (binned into 5 year segments from 0-4 years old up to 90+ years old), and the total count of people per group. There are 38 data points per year, for a total of 76 data points.\n",
    "\n",
    "You can download the dataset here: \n",
    "\n",
    "Dataset: https://github.com/suthapalliuday/INFO5502-Summer2022/blob/main/datasets/lab_assignment_05_census.csv\n",
    "\n",
    "Source: https://www.ipums.org/\n",
    "\n",
    "(1)(10 points) Start by choosing a question you'd like a visualization to answer.\n",
    "\n",
    "(2)(30 points) Generate a static visualization (i.e., a single image) that you believe effectively answers that question, and use the question as the title of your graphic.\n",
    "\n",
    "(3)(10 points) Provide a short write-up (no more than 3 paragraphs) describing your design.\n",
    "\n",
    "\n",
    "While you must use the data set given, you are free to transform the data as you see fit. Such transforms may include (but are not limited to) log transformation, computing percentages or averages, grouping elements into new categories, or removing unnecessary variables or records. You are also free to incorporate external data as you see fit. Your chart image should be interpretable without recourse to your short write-up. Do not forget to include title, axis labels or legends as needed!\n",
    "\n",
    "As different visualizations can emphasize different aspects of a data set, you should document what aspects of the data you are attempting to most effectively communicate. In short, what story are you trying to tell? Just as important, also note which aspects of the data might be obscured or down-played due to your visualization design.\n",
    "\n",
    "In your write-up, you should provide a rigorous rationale for your design decisions. Document the visual encodings you used and why they are appropriate for the data and your specific question. These decisions include the choice of visualization type, size, color, scale, and other visual elements, as well as the use of sorting or other data transformations. How do these decisions facilitate effective communication?\n",
    "\n"
   ]
  },
  {
   "cell_type": "code",
   "execution_count": null,
   "outputs": [],
   "source": [
    "# Your answer here (question + explanation):\n",
    "\n",
    "'''\n",
    "For question number one my goal will be to capture all the\n",
    "population for male and female in the 1900 and 2000.\n",
    "Trying to see if the population of certain age group are increasing\n",
    "or decreasing on the 1900 or 2000.\n",
    "\n",
    "'''\n",
    "\n",
    "\n",
    "\n"
   ],
   "metadata": {
    "collapsed": false,
    "pycharm": {
     "name": "#%%\n"
    }
   }
  },
  {
   "cell_type": "code",
   "execution_count": null,
   "outputs": [],
   "source": [
    "import seaborn as sns\n",
    "import pandas as pd\n",
    "import matplotlib.pyplot as plot\n",
    "%matplotlib inline\n",
    "csv_table = pd.read_csv('lab_assignment_05_census.csv')\n",
    "\n",
    "sns.barplot(x = csv_table[(csv_table['Year'] == 1900)][\"Age\"], y = csv_table[(csv_table['Year'] == 1900)][\"People\"], hue=\"Sex\", palette=['tab:blue', 'tab:red'], data= csv_table[(csv_table['Year'] == 1900)])\n",
    "plot.xlabel(\"Age\")\n",
    "plot.ylabel(\"Population\")\n",
    "plot.title(\"male female population for 1900\")\n",
    "plot.show()\n",
    "\n",
    "sns.barplot(x = csv_table[(csv_table['Year'] == 2000)][\"Age\"], y = csv_table[(csv_table['Year'] == 2000)][\"People\"], hue=\"Sex\", palette=['tab:orange', 'tab:green'], data= csv_table[(csv_table['Year'] == 2000)])\n",
    "plot.xlabel(\"Age\")\n",
    "plot.ylabel(\"Population\")\n",
    "plot.title(\"male female population for 2000\")\n",
    "plot.show()\n",
    "\n",
    "sns.barplot(x = \"Age\", y = \"People\", hue=\"Sex\", palette=['tab:orange', 'tab:green'], data= csv_table)\n",
    "plot.xlabel(\"Age\")\n",
    "plot.ylabel(\"Population\")\n",
    "plot.show()"
   ],
   "metadata": {
    "collapsed": false,
    "pycharm": {
     "name": "#%%\n"
    }
   }
  },
  {
   "cell_type": "code",
   "execution_count": null,
   "metadata": {},
   "outputs": [],
   "source": [
    "# Your answer here (interpretation of the results):\n",
    "'''\n",
    "As we can see on the plot number of population in 1900 what decreasing based\n",
    "on the age group. but in 2000 same age group population has\n",
    "different range of increasing. every group on the 2000 has the higher\n",
    "population than the population iin 1900.\n",
    "In order to get the result I wanted I had to plot on graph with \n",
    "age and population bases on the sex group whch are seperated with \n",
    "the color and each plot is based on the number of year and each year has\n",
    "seperate age group on it. \n",
    "'''\n",
    "\n"
   ]
  }
 ],
 "metadata": {
  "kernelspec": {
   "display_name": "Python 3 (ipykernel)",
   "language": "python",
   "name": "python3"
  },
  "language_info": {
   "codemirror_mode": {
    "name": "ipython",
    "version": 3
   },
   "file_extension": ".py",
   "mimetype": "text/x-python",
   "name": "python",
   "nbconvert_exporter": "python",
   "pygments_lexer": "ipython3",
   "version": "3.9.12"
  }
 },
 "nbformat": 4,
 "nbformat_minor": 2
}