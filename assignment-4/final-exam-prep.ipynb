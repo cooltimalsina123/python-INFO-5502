{
 "cells": [
  {
   "cell_type": "markdown",
   "metadata": {},
   "source": [
    "## The Eighth Lab-assignment (08/09/2022 11:59'AM' - 08/12/2022 11:59PM, 50 points in total)"
   ]
  },
  {
   "cell_type": "markdown",
   "metadata": {},
   "source": [
    "The purpose of this assignment is to practice different Hypothesis Testing and annotation quality evaluation."
   ]
  },
  {
   "cell_type": "markdown",
   "metadata": {},
   "source": [
    "### Question 1 (10 points) \n",
    "\n",
    "During the 1980s, the general consensus is that about 5% of the nation’s children had autism. Some claimed that increases certain chemicals in the environment has led to an increase in autism. \n",
    "\n",
    "(1) Write an appropriate hypothesis test for this situation (5 points).  \n",
    "\n",
    "(2) Give an appropriate test for this hypothesis, stating what are the necessary conditions for performing the test (5 points). \n",
    "\n",
    "(3) A recent study examined 384 children and found that 46 showed signs of autism. Perform a test of the hypothesis and state the p-value (5 points). "
   ]
  },
  {
   "cell_type": "code",
   "execution_count": 9,
   "metadata": {},
   "outputs": [
    {
     "data": {
      "text/plain": "'\\n2) ANS: Conditions that needed to be followed are:\\n- we will need sample size first\\n- we will need level of significant alpha whihc is 0.05%\\n- Standard deviation must be known\\n- we need p value as well\\n'"
     },
     "execution_count": 9,
     "metadata": {},
     "output_type": "execute_result"
    }
   ],
   "source": [
    "'''\n",
    "1) ANS: z-test will be the appropriate hypothesis test for this situation\n",
    "'''\n",
    "\n",
    "'''\n",
    "2) ANS: Conditions that needed to be followed are:\n",
    "- we will need sample size first\n",
    "- we will need level of significant alpha whihc is 0.05%\n",
    "- Standard deviation must be known\n",
    "- we need p value as well\n",
    "'''\n"
   ]
  },
  {
   "cell_type": "code",
   "execution_count": 10,
   "metadata": {},
   "outputs": [
    {
     "name": "stdout",
     "output_type": "stream",
     "text": [
      "value of z:  6.27512493759735\n",
      "Alternative hyphothesis accepted\n"
     ]
    }
   ],
   "source": [
    "# your code here\n",
    "# 3) examination of 384 children\n",
    "import pandas as pd\n",
    "import math as m\n",
    "\n",
    "#from our hypothesis of part 2\n",
    "p_value = 46/384\n",
    "p = 0.05\n",
    "\n",
    "z_value = (p_value-p)/((m.sqrt(p*(1-p)))/m.sqrt(384))\n",
    "print(\"value of z: \",z_value)\n",
    "if z_value>1.96:\n",
    "  print(\"Alternative hyphothesis accepted\")\n",
    "else:\n",
    "  print(\"Null hyphothesis accepted\")\n",
    "\n",
    "\n",
    "\n"
   ]
  },
  {
   "attachments": {
    "assignmen_9.png": {
     "image/png": "[encoded data removed]"
    }
   },
   "cell_type": "markdown",
   "metadata": {},
   "source": [
    "### Question 2 (10 points) \n",
    "In this problem,we will examine the sugar content of several national brands of cereals, here measured as a percentage of weight.\n",
    "\n",
    "(1) Give a summary of these two datasets (5 points). \n",
    "\n",
    "(2) Create side-by-side boxplots and interpret what you see (5 points). \n",
    "\n",
    "(3) Use python to create a 95% confidence interval for the difference in mean sugar content and explain your result (5 points). "
   ]
  },
  {
   "cell_type": "code",
   "execution_count": 11,
   "metadata": {},
   "outputs": [
    {
     "name": "stdout",
     "output_type": "stream",
     "text": [
      "Summary for Children: \n",
      "               0\n",
      "count  19.000000\n",
      "mean   46.800000\n",
      "std     6.418376\n",
      "min    33.600000\n",
      "25%    43.650000\n",
      "50%    45.900000\n",
      "75%    50.350000\n",
      "max    60.300000\n",
      "\n",
      "\n",
      "Summary for Adult: \n",
      "               0\n",
      "count  29.000000\n",
      "mean   10.168966\n",
      "std     7.475680\n",
      "min     1.000000\n",
      "25%     4.100000\n",
      "50%     8.100000\n",
      "75%    15.800000\n",
      "max    30.200000\n",
      "\n",
      "\n",
      "Looking at the result for above data, it explains that mean of adult\n",
      "  is way smaller that mean of the children which also resulted the standard\n",
      "  deviation fot he children being less than the standard deviation of the adult\n",
      "\n",
      "\n",
      "2) side-by-side boxplots and interpretation. Plot printed at last\n",
      "\n",
      "\n",
      " ANS: Based on the plot obtained from above data we can say that\n",
      "Adult has high difference in sugar content than children\n",
      "\n",
      "\n",
      "3) to create a 95% confidence interval for the difference in mean sugar content\n",
      "95% confident interval fo children:  (34.555734866088045, 59.04426513391196)\n",
      "95% confident interval fo adult:  (-4.228259682928753, 24.56619071741151)\n"
     ]
    },
    {
     "data": {
      "text/plain": "<Figure size 720x576 with 1 Axes>",
      "image/png": "[encoded data removed]"
     },
     "metadata": {
      "needs_background": "light"
     },
     "output_type": "display_data"
    }
   ],
   "source": [
    "import numpy as np\n",
    "import pandas as pd\n",
    "import matplotlib.pyplot as plt\n",
    "from scipy import stats\n",
    "\n",
    "children_data = [40.3, 55.0, 45.7, 43.3, 50.3, 45.9, 53.5, 43.0, 44.2, 44.0, 33.6, 55.1, 48.8,\n",
    "                     50.4, 37.8, 60.3, 46.6, 47.4, 44.0]\n",
    "adult_data = [20.0, 30.2, 2.2, 7.5, 4.4, 22.2, 16.6, 14.5, 21.4, 3.3, 10.0, 1.0, 4.4, 1.3, 8.1,\n",
    "                  6.6, 7.8, 10.6, 10.6, 16.2, 14.5, 4.1, 15.8, 4.1, 2.4, 3.5, 8.5, 4.7, 18.4]\n",
    "\n",
    "# 1)summary of two datasets are:\n",
    "\n",
    "print(\"Summary for Children: \")\n",
    "print(pd.DataFrame.from_dict(children_data).describe())\n",
    "\n",
    "print(\"\\n\\nSummary for Adult: \")\n",
    "print(pd.DataFrame.from_dict(adult_data).describe())\n",
    "\n",
    "print('''\\n\\nLooking at the result for above data, it explains that mean of adult\n",
    "  is way smaller that mean of the children which also resulted the standard\n",
    "  deviation fot he children being less than the standard deviation of the adult\\n\\n''')\n",
    "\n",
    "#2) side-by-side boxplots and interpretation\n",
    "plt.figure(figsize = (10, 8))\n",
    "plt.boxplot([children_data, adult_data], positions = [1, 2], labels = ['Children_plot', 'Adults_plot'])\n",
    "plt.title('side-by-side boxplot')\n",
    "plt.show()\n",
    "\n",
    "print(\"2) side-by-side boxplots and interpretation. Plot printed at last\")\n",
    "print('''\\n\\n ANS: Based on the plot obtained from above data we can say that\n",
    "Adult has high difference in sugar content than children\\n\\n''')\n",
    "\n",
    "# 3) to create a 95% confidence interval for the difference in mean sugar content\n",
    "print(\"3) to create a 95% confidence interval for the difference in mean sugar content\")\n",
    "of_child = stats.norm.interval(0.95, np.mean(children_data), np.std(children_data))\n",
    "of_adult = stats.norm.interval(0.95, np.mean(adult_data), np.std(adult_data))\n",
    "print(\"95% confident interval fo children: \", of_child)\n",
    "print(\"95% confident interval fo adult: \", of_adult)\n"
   ]
  },
  {
   "cell_type": "code",
   "execution_count": 12,
   "metadata": {},
   "outputs": [],
   "source": [
    "# your code here\n",
    "\n"
   ]
  },
  {
   "cell_type": "markdown",
   "metadata": {},
   "source": [
    "### Question 3 (30 points) \n",
    "\n",
    "Cohen's kappa coefficient (κ) is a statistic that is used to measure inter-rater reliability (and also intra-rater reliability) for qualitative (categorical) items. It is generally thought to be a more robust measure than simple percent agreement calculation, as κ takes into account the possibility of the agreement occurring by chance. There is controversy surrounding Cohen's kappa due to the difficulty in interpreting indices of agreement. Some researchers have suggested that it is conceptually simpler to evaluate disagreement between items.\n",
    "\n",
    "A more detailed description of Kappa agreement can be found on wikipedia: https://en.wikipedia.org/wiki/Cohen%27s_kappa\n",
    "\n",
    "Here is the dataset we created for a text classification task: https://github.com/suthapalliuday/INFO5502-Summer2022/blob/main/datasets/lab08-dataset.csv\n",
    "\n",
    "The last three columns indicate the annotation on the same sentence by three students respectively. Based on this dataset, please calculate the Cohen's kappa and the Fleiss' kappa using their formulars (Python). Please don't use any existing packages for the implementation. "
   ]
  },
  {
   "cell_type": "code",
   "execution_count": 13,
   "metadata": {},
   "outputs": [
    {
     "name": "stdout",
     "output_type": "stream",
     "text": [
      "Requirement already satisfied: krippendorff in /Users/rockingtimalsina/Documents/COLLEGE/GITHUB/python-INFO-5502/venv/lib/python3.10/site-packages (0.5.1)\r\n",
      "Requirement already satisfied: numpy in /Users/rockingtimalsina/Documents/COLLEGE/GITHUB/python-INFO-5502/venv/lib/python3.10/site-packages (from krippendorff) (1.23.1)\r\n",
      "\r\n",
      "\u001B[1m[\u001B[0m\u001B[34;49mnotice\u001B[0m\u001B[1;39;49m]\u001B[0m\u001B[39;49m A new release of pip available: \u001B[0m\u001B[31;49m22.2.1\u001B[0m\u001B[39;49m -> \u001B[0m\u001B[32;49m22.2.2\u001B[0m\r\n",
      "\u001B[1m[\u001B[0m\u001B[34;49mnotice\u001B[0m\u001B[1;39;49m]\u001B[0m\u001B[39;49m To update, run: \u001B[0m\u001B[32;49mpip install --upgrade pip\u001B[0m\r\n",
      "Final Cohen's kappa score: 0.54\n",
      "Moderate agreement\n",
      "\n",
      "Final Fleiss score obtained:  0.57\n"
     ]
    }
   ],
   "source": [
    "!pip install krippendorff\n",
    "# your code here\n",
    "import pandas as pd\n",
    "from sklearn.preprocessing import LabelEncoder\n",
    "from sklearn.metrics import cohen_kappa_score\n",
    "import krippendorff\n",
    "\n",
    "data_set=pd.read_csv('lab08-dataset.csv')\n",
    "\n",
    "label = LabelEncoder()\n",
    "label.fit(data_set['Annotation1'])\n",
    "\n",
    "data_set['label_A1'] = label.transform(data_set['Annotation1'])\n",
    "data_set['label_A2'] = label.transform(data_set['Annotation2'])\n",
    "data_set['label_A3'] = label.transform(data_set['Annotation3'])\n",
    "\n",
    "score_no_1 = cohen_kappa_score(list(data_set['label_A1'].values), list(data_set['label_A2'].values))\n",
    "score_no_2 = cohen_kappa_score(list(data_set['label_A2'].values), list(data_set['label_A3'].values))\n",
    "score_no_3 = cohen_kappa_score(list(data_set['label_A3'].values), list(data_set['label_A1'].values))\n",
    "\n",
    "avg_of_three_score = (score_no_1 + score_no_2 + score_no_3)/3\n",
    "print(\"Final Cohen's kappa score:\", round(avg_of_three_score, 2))\n",
    "\n",
    "if avg_of_three_score < 0.0:\n",
    "    print(\"Less than chance agreement\")\n",
    "\n",
    "elif ((avg_of_three_score >= 0.01) & (avg_of_three_score <= 0.20)):\n",
    "    print(\"Slight agreement\")\n",
    "\n",
    "elif ((avg_of_three_score >= 0.21) and (avg_of_three_score <= 0.40)):\n",
    "    print(\"Fair agreement\")\n",
    "\n",
    "elif ((avg_of_three_score >= 0.41) and (avg_of_three_score <= 0.60)):\n",
    "    print(\"Moderate agreement\")\n",
    "\n",
    "elif ((avg_of_three_score >= 0.61) and (avg_of_three_score <= 0.80)):\n",
    "    print(\"Substantial agreement\")\n",
    "\n",
    "elif ((avg_of_three_score >= 0.81) and (avg_of_three_score <= 0.99)):\n",
    "    print(\"Almost perfect agreement\")\n",
    "\n",
    "data_value_1 = [list(data_set['label_A1'].values),\n",
    "        list(data_set['label_A2'].values),\n",
    "        list(data_set['label_A3'].values)]\n",
    "\n",
    "score_for_fleiss = krippendorff.alpha(data_value_1)\n",
    "print(\"\\nFinal Fleiss score obtained: \", round(score_for_fleiss, 2))\n",
    "# your code here\n",
    "\n"
   ]
  }
 ],
 "metadata": {
  "kernelspec": {
   "display_name": "Python 3 (ipykernel)",
   "language": "python",
   "name": "python3"
  },
  "language_info": {
   "codemirror_mode": {
    "name": "ipython",
    "version": 3
   },
   "file_extension": ".py",
   "mimetype": "text/x-python",
   "name": "python",
   "nbconvert_exporter": "python",
   "pygments_lexer": "ipython3",
   "version": "3.9.12"
  }
 },
 "nbformat": 4,
 "nbformat_minor": 4
}