{
 "cells": [
  {
   "cell_type": "markdown",
   "metadata": {},
   "source": [
    "## The sixth Lab-assignment (08/02/2022 11:59'AM' - 08/05/2022 11:59PM, 50 points in total)"
   ]
  },
  {
   "cell_type": "markdown",
   "metadata": {},
   "source": [
    "The purpose of this exercise is to build a simple predicition model which can helpyou understand the workflow of machine learning. "
   ]
  },
  {
   "cell_type": "markdown",
   "metadata": {},
   "source": [
    "### Q1 Task Decription (50 Points)"
   ]
  },
  {
   "cell_type": "markdown",
   "metadata": {},
   "source": [
    "The goal of this assignment is to predict bike share use, given the hour, day, and information about the weather. Companies like Divvy try to predict how much demand there will be for bikes on any given day to allocate resources to redistribute bikes so that, ideally, very few bike stations are ever full (when you can’t park your bike) or empty (when you can’t pick up a bike if you want to).\n",
    "\n",
    "The data (link: https://github.com/suthapalliuday/INFO5502-Summer2022/tree/main/datasets/lab_assignment_06) in Github provides detailed information on the data set and necessary downloads."
   ]
  },
  {
   "cell_type": "markdown",
   "metadata": {},
   "source": [
    "### Data Description"
   ]
  },
  {
   "cell_type": "markdown",
   "metadata": {},
   "source": [
    "You are provided hourly rental data spanning two years (link: https://github.com/suthapalliuday/INFO5502-Summer2022/tree/main/datasets/lab_assignment_06). For this task, the training set is comprised of the first 16 days of each month, while the test set is the 17-19th day of the month. You must predict the total count of bikes rented during each hour covered by the test set, using only information available prior to the rental period. That is, predict \"count\" without using \"count\" or its components \"casual\" and \"registered\".\n",
    "\n",
    "Data Fields\n",
    "\n",
    "datetime - hourly date + timestamp\n",
    "\n",
    "season - 1 = spring, 2 = summer, 3 = fall, 4 = winter\n",
    "\n",
    "holiday - whether the day is considered a holiday\n",
    "\n",
    "workingday - whether the day is neither a weekend nor holiday\n",
    "\n",
    "weather -\n",
    "\n",
    "1 - Clear, Few clouds, Partly cloudy, Partly cloudy\n",
    "\n",
    "2 - Mist + Cloudy, Mist + Broken clouds, Mist + Few clouds, Mist\n",
    "\n",
    "3 - Light Snow, Light Rain + Thunderstorm + Scattered clouds, Light Rain + Scattered clouds\n",
    "\n",
    "4 - Heavy Rain + Ice Pallets + Thunderstorm + Mist, Snow + Fog\n",
    "\n",
    "temp - temperature in Celsius\n",
    "\n",
    "atemp - \"feels like\" temperature in Celsius\n",
    "\n",
    "humidity - relative humidity\n",
    "\n",
    "windspeed - wind speed\n",
    "\n",
    "casual - number of non-registered user rentals initiated\n",
    "\n",
    "registered - number of registered user rentals initiated\n",
    "\n",
    "count - number of total rentals"
   ]
  },
  {
   "cell_type": "markdown",
   "metadata": {},
   "source": [
    "### Output"
   ]
  },
  {
   "cell_type": "markdown",
   "metadata": {},
   "source": [
    "Submission Format\n",
    "\n",
    "Your output (a separate file) must have a header line and should be structured in the following format:\n",
    "\n",
    " datetime,count\n",
    " \n",
    " 2011-01-20 00:00:00,0 \n",
    " \n",
    " 2011-01-20 01:00:00,0\n",
    " \n",
    " 2011-01-20 02:00:00,0\n",
    " \n",
    " ...\n",
    " \n",
    "The tutorial code should demonstrate how to generate such a file from a very simple prediction model. Note, these prediction are to be done on the test file under the data tab, where you do not know the actual count, and should match the rows of the test file in count and order.\n",
    "\n",
    "Your predictions should be compared to the ground truth information (sample_prediction.csv). Score are calculated using Root Mean Squared Error (RMSE)."
   ]
  },
  {
   "cell_type": "markdown",
   "metadata": {},
   "source": [
    "### Tips"
   ]
  },
  {
   "cell_type": "markdown",
   "metadata": {},
   "source": [
    "●\tAdd features: Pick columns/features from the data you already have. Or make a new feature from the ones you have. For example, the tutorial makes ‘hour’ from the datetime stamp, which seemed very useful. How about ‘month’?\n",
    "\n",
    "●\tModel selection: Try different models. Make sure they are regression models rather than classification models. Tip: random forest regression is a good, all around modeling strategy on complicated data sets.\n",
    "\n",
    "●\tModel tuning: Almost all regression models have parameters to tune (“hyperparameters”). E.g. polynomial regression has the degree of the polynomial (n = 1 for a line, n=2 for a quadratic fit, n=3 for a cubic fit…). Generally, one extreme makes the model too simple (e.g. a line for a curved set of points) and the other extreme makes the model overfit/be too complex, and usually the right choice is in between. For some models it is obvious what to tune (e.g. k for k nearest neighbors regression) and some don’t need much tuning with defaults that often work well. e.g. try changing the number of trees used in the random forest model!\n",
    "\n",
    "●\tCross validation: The tutorial has a simple way of separating training and test data, however, there are better ways of splitting training and test data. Look into cross validation techniques, which are more reliable than an arbitrary split of training and test data.\n",
    "\n",
    "●\tSeparate models for ...: Notice that count comes from just adding casual riders and registered riders. However, what if these two types of riders acted very differently? It might make sense to make two separate models and just add the results of both models together. This is also true for any subsets of your data that may behave wildly differently (e.g. create a separate model for each season?)"
   ]
  },
  {
   "cell_type": "markdown",
   "metadata": {},
   "source": [
    "### Your code"
   ]
  },
  {
   "cell_type": "markdown",
   "metadata": {
    "pycharm": {
     "name": "#%% md\n"
    }
   },
   "source": [
    "Understanding basic stats of the data set"
   ]
  },
  {
   "cell_type": "code",
   "execution_count": 57,
   "outputs": [
    {
     "name": "stdout",
     "output_type": "stream",
     "text": [
      "Printing top 10 the required information to see available columns\n",
      "\n",
      " Number of total samples: 9174 \n",
      " Number of total features: 12\n"
     ]
    },
    {
     "data": {
      "text/plain": "              datetime  season  holiday  workingday  weather   temp   atemp  \\\n0  2011-01-01 00:00:00       1        0           0        1   9.84  14.395   \n1  2011-01-01 01:00:00       1        0           0        1   9.02  13.635   \n2  2011-01-01 02:00:00       1        0           0        1   9.02  13.635   \n3  2011-01-01 03:00:00       1        0           0        1   9.84  14.395   \n4  2011-01-01 04:00:00       1        0           0        1   9.84  14.395   \n5  2011-01-01 05:00:00       1        0           0        2   9.84  12.880   \n6  2011-01-01 06:00:00       1        0           0        1   9.02  13.635   \n7  2011-01-01 07:00:00       1        0           0        1   8.20  12.880   \n8  2011-01-01 08:00:00       1        0           0        1   9.84  14.395   \n9  2011-01-01 09:00:00       1        0           0        1  13.12  17.425   \n\n   humidity  windspeed  casual  registered  count  \n0        81     0.0000       3          13     16  \n1        80     0.0000       8          32     40  \n2        80     0.0000       5          27     32  \n3        75     0.0000       3          10     13  \n4        75     0.0000       0           1      1  \n5        75     6.0032       0           1      1  \n6        80     0.0000       2           0      2  \n7        86     0.0000       1           2      3  \n8        75     0.0000       1           7      8  \n9        76     0.0000       8           6     14  ",
      "text/html": "<div>\n<style scoped>\n    .dataframe tbody tr th:only-of-type {\n        vertical-align: middle;\n    }\n\n    .dataframe tbody tr th {\n        vertical-align: top;\n    }\n\n    .dataframe thead th {\n        text-align: right;\n    }\n</style>\n<table border=\"1\" class=\"dataframe\">\n  <thead>\n    <tr style=\"text-align: right;\">\n      <th></th>\n      <th>datetime</th>\n      <th>season</th>\n      <th>holiday</th>\n      <th>workingday</th>\n      <th>weather</th>\n      <th>temp</th>\n      <th>atemp</th>\n      <th>humidity</th>\n      <th>windspeed</th>\n      <th>casual</th>\n      <th>registered</th>\n      <th>count</th>\n    </tr>\n  </thead>\n  <tbody>\n    <tr>\n      <th>0</th>\n      <td>2011-01-01 00:00:00</td>\n      <td>1</td>\n      <td>0</td>\n      <td>0</td>\n      <td>1</td>\n      <td>9.84</td>\n      <td>14.395</td>\n      <td>81</td>\n      <td>0.0000</td>\n      <td>3</td>\n      <td>13</td>\n      <td>16</td>\n    </tr>\n    <tr>\n      <th>1</th>\n      <td>2011-01-01 01:00:00</td>\n      <td>1</td>\n      <td>0</td>\n      <td>0</td>\n      <td>1</td>\n      <td>9.02</td>\n      <td>13.635</td>\n      <td>80</td>\n      <td>0.0000</td>\n      <td>8</td>\n      <td>32</td>\n      <td>40</td>\n    </tr>\n    <tr>\n      <th>2</th>\n      <td>2011-01-01 02:00:00</td>\n      <td>1</td>\n      <td>0</td>\n      <td>0</td>\n      <td>1</td>\n      <td>9.02</td>\n      <td>13.635</td>\n      <td>80</td>\n      <td>0.0000</td>\n      <td>5</td>\n      <td>27</td>\n      <td>32</td>\n    </tr>\n    <tr>\n      <th>3</th>\n      <td>2011-01-01 03:00:00</td>\n      <td>1</td>\n      <td>0</td>\n      <td>0</td>\n      <td>1</td>\n      <td>9.84</td>\n      <td>14.395</td>\n      <td>75</td>\n      <td>0.0000</td>\n      <td>3</td>\n      <td>10</td>\n      <td>13</td>\n    </tr>\n    <tr>\n      <th>4</th>\n      <td>2011-01-01 04:00:00</td>\n      <td>1</td>\n      <td>0</td>\n      <td>0</td>\n      <td>1</td>\n      <td>9.84</td>\n      <td>14.395</td>\n      <td>75</td>\n      <td>0.0000</td>\n      <td>0</td>\n      <td>1</td>\n      <td>1</td>\n    </tr>\n    <tr>\n      <th>5</th>\n      <td>2011-01-01 05:00:00</td>\n      <td>1</td>\n      <td>0</td>\n      <td>0</td>\n      <td>2</td>\n      <td>9.84</td>\n      <td>12.880</td>\n      <td>75</td>\n      <td>6.0032</td>\n      <td>0</td>\n      <td>1</td>\n      <td>1</td>\n    </tr>\n    <tr>\n      <th>6</th>\n      <td>2011-01-01 06:00:00</td>\n      <td>1</td>\n      <td>0</td>\n      <td>0</td>\n      <td>1</td>\n      <td>9.02</td>\n      <td>13.635</td>\n      <td>80</td>\n      <td>0.0000</td>\n      <td>2</td>\n      <td>0</td>\n      <td>2</td>\n    </tr>\n    <tr>\n      <th>7</th>\n      <td>2011-01-01 07:00:00</td>\n      <td>1</td>\n      <td>0</td>\n      <td>0</td>\n      <td>1</td>\n      <td>8.20</td>\n      <td>12.880</td>\n      <td>86</td>\n      <td>0.0000</td>\n      <td>1</td>\n      <td>2</td>\n      <td>3</td>\n    </tr>\n    <tr>\n      <th>8</th>\n      <td>2011-01-01 08:00:00</td>\n      <td>1</td>\n      <td>0</td>\n      <td>0</td>\n      <td>1</td>\n      <td>9.84</td>\n      <td>14.395</td>\n      <td>75</td>\n      <td>0.0000</td>\n      <td>1</td>\n      <td>7</td>\n      <td>8</td>\n    </tr>\n    <tr>\n      <th>9</th>\n      <td>2011-01-01 09:00:00</td>\n      <td>1</td>\n      <td>0</td>\n      <td>0</td>\n      <td>1</td>\n      <td>13.12</td>\n      <td>17.425</td>\n      <td>76</td>\n      <td>0.0000</td>\n      <td>8</td>\n      <td>6</td>\n      <td>14</td>\n    </tr>\n  </tbody>\n</table>\n</div>"
     },
     "execution_count": 57,
     "metadata": {},
     "output_type": "execute_result"
    }
   ],
   "source": [
    "### You code here:\n",
    "import pandas as pd\n",
    "from datetime import datetime\n",
    "import numpy as np\n",
    "import matplotlib.pyplot as plot\n",
    "\n",
    "%matplotlib inline\n",
    "data_set = pd.read_csv('train_luc.csv')\n",
    "print(\"Printing top 10 the required information to see available columns\")\n",
    "print(\"\\n Number of total samples:\", data_set.shape[0], \"\\n Number of total features:\", data_set.shape[1])\n",
    "data_set.head(10)"
   ],
   "metadata": {
    "collapsed": false,
    "pycharm": {
     "name": "#%%\n"
    }
   }
  },
  {
   "cell_type": "code",
   "execution_count": 58,
   "outputs": [
    {
     "data": {
      "text/plain": "            season      holiday   workingday      weather         temp  \\\ncount  9174.000000  9174.000000  9174.000000  9174.000000  9174.000000   \nmean      2.505559     0.031284     0.678875     1.414868    20.130401   \nstd       1.116618     0.174094     0.466934     0.635363     7.940504   \nmin       1.000000     0.000000     0.000000     1.000000     0.820000   \n25%       2.000000     0.000000     0.000000     1.000000    13.940000   \n50%       3.000000     0.000000     1.000000     1.000000    20.500000   \n75%       4.000000     0.000000     1.000000     2.000000    27.060000   \nmax       4.000000     1.000000     1.000000     4.000000    41.000000   \n\n             atemp     humidity    windspeed       casual   registered  \\\ncount  9174.000000  9174.000000  9174.000000  9174.000000  9174.000000   \nmean     23.578433    61.715064    12.737931    35.713647   154.868106   \nstd       8.617957    19.401829     8.199027    49.667738   150.981155   \nmin       0.760000     0.000000     0.000000     0.000000     0.000000   \n25%      16.665000    46.000000     7.001500     4.000000    35.000000   \n50%      24.240000    61.000000    11.001400    16.000000   117.000000   \n75%      31.060000    78.000000    16.997900    48.000000   222.000000   \nmax      45.455000   100.000000    56.996900   362.000000   886.000000   \n\n             count  \ncount  9174.000000  \nmean    190.581753  \nstd     181.011530  \nmin       1.000000  \n25%      41.000000  \n50%     144.000000  \n75%     282.000000  \nmax     977.000000  ",
      "text/html": "<div>\n<style scoped>\n    .dataframe tbody tr th:only-of-type {\n        vertical-align: middle;\n    }\n\n    .dataframe tbody tr th {\n        vertical-align: top;\n    }\n\n    .dataframe thead th {\n        text-align: right;\n    }\n</style>\n<table border=\"1\" class=\"dataframe\">\n  <thead>\n    <tr style=\"text-align: right;\">\n      <th></th>\n      <th>season</th>\n      <th>holiday</th>\n      <th>workingday</th>\n      <th>weather</th>\n      <th>temp</th>\n      <th>atemp</th>\n      <th>humidity</th>\n      <th>windspeed</th>\n      <th>casual</th>\n      <th>registered</th>\n      <th>count</th>\n    </tr>\n  </thead>\n  <tbody>\n    <tr>\n      <th>count</th>\n      <td>9174.000000</td>\n      <td>9174.000000</td>\n      <td>9174.000000</td>\n      <td>9174.000000</td>\n      <td>9174.000000</td>\n      <td>9174.000000</td>\n      <td>9174.000000</td>\n      <td>9174.000000</td>\n      <td>9174.000000</td>\n      <td>9174.000000</td>\n      <td>9174.000000</td>\n    </tr>\n    <tr>\n      <th>mean</th>\n      <td>2.505559</td>\n      <td>0.031284</td>\n      <td>0.678875</td>\n      <td>1.414868</td>\n      <td>20.130401</td>\n      <td>23.578433</td>\n      <td>61.715064</td>\n      <td>12.737931</td>\n      <td>35.713647</td>\n      <td>154.868106</td>\n      <td>190.581753</td>\n    </tr>\n    <tr>\n      <th>std</th>\n      <td>1.116618</td>\n      <td>0.174094</td>\n      <td>0.466934</td>\n      <td>0.635363</td>\n      <td>7.940504</td>\n      <td>8.617957</td>\n      <td>19.401829</td>\n      <td>8.199027</td>\n      <td>49.667738</td>\n      <td>150.981155</td>\n      <td>181.011530</td>\n    </tr>\n    <tr>\n      <th>min</th>\n      <td>1.000000</td>\n      <td>0.000000</td>\n      <td>0.000000</td>\n      <td>1.000000</td>\n      <td>0.820000</td>\n      <td>0.760000</td>\n      <td>0.000000</td>\n      <td>0.000000</td>\n      <td>0.000000</td>\n      <td>0.000000</td>\n      <td>1.000000</td>\n    </tr>\n    <tr>\n      <th>25%</th>\n      <td>2.000000</td>\n      <td>0.000000</td>\n      <td>0.000000</td>\n      <td>1.000000</td>\n      <td>13.940000</td>\n      <td>16.665000</td>\n      <td>46.000000</td>\n      <td>7.001500</td>\n      <td>4.000000</td>\n      <td>35.000000</td>\n      <td>41.000000</td>\n    </tr>\n    <tr>\n      <th>50%</th>\n      <td>3.000000</td>\n      <td>0.000000</td>\n      <td>1.000000</td>\n      <td>1.000000</td>\n      <td>20.500000</td>\n      <td>24.240000</td>\n      <td>61.000000</td>\n      <td>11.001400</td>\n      <td>16.000000</td>\n      <td>117.000000</td>\n      <td>144.000000</td>\n    </tr>\n    <tr>\n      <th>75%</th>\n      <td>4.000000</td>\n      <td>0.000000</td>\n      <td>1.000000</td>\n      <td>2.000000</td>\n      <td>27.060000</td>\n      <td>31.060000</td>\n      <td>78.000000</td>\n      <td>16.997900</td>\n      <td>48.000000</td>\n      <td>222.000000</td>\n      <td>282.000000</td>\n    </tr>\n    <tr>\n      <th>max</th>\n      <td>4.000000</td>\n      <td>1.000000</td>\n      <td>1.000000</td>\n      <td>4.000000</td>\n      <td>41.000000</td>\n      <td>45.455000</td>\n      <td>100.000000</td>\n      <td>56.996900</td>\n      <td>362.000000</td>\n      <td>886.000000</td>\n      <td>977.000000</td>\n    </tr>\n  </tbody>\n</table>\n</div>"
     },
     "execution_count": 58,
     "metadata": {},
     "output_type": "execute_result"
    }
   ],
   "source": [
    "data_set.describe()\n"
   ],
   "metadata": {
    "collapsed": false,
    "pycharm": {
     "name": "#%%\n"
    }
   }
  },
  {
   "cell_type": "markdown",
   "source": [
    "Creating a new feature"
   ],
   "metadata": {
    "collapsed": false,
    "pycharm": {
     "name": "#%% md\n"
    }
   }
  },
  {
   "cell_type": "code",
   "execution_count": 59,
   "outputs": [
    {
     "name": "stdout",
     "output_type": "stream",
     "text": [
      "Adding another column for hour and month \n"
     ]
    },
    {
     "data": {
      "text/plain": "              datetime  season  holiday  workingday  weather   temp   atemp  \\\n0  2011-01-01 00:00:00       1        0           0        1   9.84  14.395   \n1  2011-01-01 01:00:00       1        0           0        1   9.02  13.635   \n2  2011-01-01 02:00:00       1        0           0        1   9.02  13.635   \n3  2011-01-01 03:00:00       1        0           0        1   9.84  14.395   \n4  2011-01-01 04:00:00       1        0           0        1   9.84  14.395   \n5  2011-01-01 05:00:00       1        0           0        2   9.84  12.880   \n6  2011-01-01 06:00:00       1        0           0        1   9.02  13.635   \n7  2011-01-01 07:00:00       1        0           0        1   8.20  12.880   \n8  2011-01-01 08:00:00       1        0           0        1   9.84  14.395   \n9  2011-01-01 09:00:00       1        0           0        1  13.12  17.425   \n\n   humidity  windspeed  casual  registered  count  hour  month  \n0        81     0.0000       3          13     16     0      1  \n1        80     0.0000       8          32     40     1      1  \n2        80     0.0000       5          27     32     2      1  \n3        75     0.0000       3          10     13     3      1  \n4        75     0.0000       0           1      1     4      1  \n5        75     6.0032       0           1      1     5      1  \n6        80     0.0000       2           0      2     6      1  \n7        86     0.0000       1           2      3     7      1  \n8        75     0.0000       1           7      8     8      1  \n9        76     0.0000       8           6     14     9      1  ",
      "text/html": "<div>\n<style scoped>\n    .dataframe tbody tr th:only-of-type {\n        vertical-align: middle;\n    }\n\n    .dataframe tbody tr th {\n        vertical-align: top;\n    }\n\n    .dataframe thead th {\n        text-align: right;\n    }\n</style>\n<table border=\"1\" class=\"dataframe\">\n  <thead>\n    <tr style=\"text-align: right;\">\n      <th></th>\n      <th>datetime</th>\n      <th>season</th>\n      <th>holiday</th>\n      <th>workingday</th>\n      <th>weather</th>\n      <th>temp</th>\n      <th>atemp</th>\n      <th>humidity</th>\n      <th>windspeed</th>\n      <th>casual</th>\n      <th>registered</th>\n      <th>count</th>\n      <th>hour</th>\n      <th>month</th>\n    </tr>\n  </thead>\n  <tbody>\n    <tr>\n      <th>0</th>\n      <td>2011-01-01 00:00:00</td>\n      <td>1</td>\n      <td>0</td>\n      <td>0</td>\n      <td>1</td>\n      <td>9.84</td>\n      <td>14.395</td>\n      <td>81</td>\n      <td>0.0000</td>\n      <td>3</td>\n      <td>13</td>\n      <td>16</td>\n      <td>0</td>\n      <td>1</td>\n    </tr>\n    <tr>\n      <th>1</th>\n      <td>2011-01-01 01:00:00</td>\n      <td>1</td>\n      <td>0</td>\n      <td>0</td>\n      <td>1</td>\n      <td>9.02</td>\n      <td>13.635</td>\n      <td>80</td>\n      <td>0.0000</td>\n      <td>8</td>\n      <td>32</td>\n      <td>40</td>\n      <td>1</td>\n      <td>1</td>\n    </tr>\n    <tr>\n      <th>2</th>\n      <td>2011-01-01 02:00:00</td>\n      <td>1</td>\n      <td>0</td>\n      <td>0</td>\n      <td>1</td>\n      <td>9.02</td>\n      <td>13.635</td>\n      <td>80</td>\n      <td>0.0000</td>\n      <td>5</td>\n      <td>27</td>\n      <td>32</td>\n      <td>2</td>\n      <td>1</td>\n    </tr>\n    <tr>\n      <th>3</th>\n      <td>2011-01-01 03:00:00</td>\n      <td>1</td>\n      <td>0</td>\n      <td>0</td>\n      <td>1</td>\n      <td>9.84</td>\n      <td>14.395</td>\n      <td>75</td>\n      <td>0.0000</td>\n      <td>3</td>\n      <td>10</td>\n      <td>13</td>\n      <td>3</td>\n      <td>1</td>\n    </tr>\n    <tr>\n      <th>4</th>\n      <td>2011-01-01 04:00:00</td>\n      <td>1</td>\n      <td>0</td>\n      <td>0</td>\n      <td>1</td>\n      <td>9.84</td>\n      <td>14.395</td>\n      <td>75</td>\n      <td>0.0000</td>\n      <td>0</td>\n      <td>1</td>\n      <td>1</td>\n      <td>4</td>\n      <td>1</td>\n    </tr>\n    <tr>\n      <th>5</th>\n      <td>2011-01-01 05:00:00</td>\n      <td>1</td>\n      <td>0</td>\n      <td>0</td>\n      <td>2</td>\n      <td>9.84</td>\n      <td>12.880</td>\n      <td>75</td>\n      <td>6.0032</td>\n      <td>0</td>\n      <td>1</td>\n      <td>1</td>\n      <td>5</td>\n      <td>1</td>\n    </tr>\n    <tr>\n      <th>6</th>\n      <td>2011-01-01 06:00:00</td>\n      <td>1</td>\n      <td>0</td>\n      <td>0</td>\n      <td>1</td>\n      <td>9.02</td>\n      <td>13.635</td>\n      <td>80</td>\n      <td>0.0000</td>\n      <td>2</td>\n      <td>0</td>\n      <td>2</td>\n      <td>6</td>\n      <td>1</td>\n    </tr>\n    <tr>\n      <th>7</th>\n      <td>2011-01-01 07:00:00</td>\n      <td>1</td>\n      <td>0</td>\n      <td>0</td>\n      <td>1</td>\n      <td>8.20</td>\n      <td>12.880</td>\n      <td>86</td>\n      <td>0.0000</td>\n      <td>1</td>\n      <td>2</td>\n      <td>3</td>\n      <td>7</td>\n      <td>1</td>\n    </tr>\n    <tr>\n      <th>8</th>\n      <td>2011-01-01 08:00:00</td>\n      <td>1</td>\n      <td>0</td>\n      <td>0</td>\n      <td>1</td>\n      <td>9.84</td>\n      <td>14.395</td>\n      <td>75</td>\n      <td>0.0000</td>\n      <td>1</td>\n      <td>7</td>\n      <td>8</td>\n      <td>8</td>\n      <td>1</td>\n    </tr>\n    <tr>\n      <th>9</th>\n      <td>2011-01-01 09:00:00</td>\n      <td>1</td>\n      <td>0</td>\n      <td>0</td>\n      <td>1</td>\n      <td>13.12</td>\n      <td>17.425</td>\n      <td>76</td>\n      <td>0.0000</td>\n      <td>8</td>\n      <td>6</td>\n      <td>14</td>\n      <td>9</td>\n      <td>1</td>\n    </tr>\n  </tbody>\n</table>\n</div>"
     },
     "execution_count": 59,
     "metadata": {},
     "output_type": "execute_result"
    }
   ],
   "source": [
    "print(\"Adding another column for hour and month \")\n",
    "def hour_of_day(value):\n",
    "    return datetime.strptime(value, \"%Y-%m-%d %H:%M:%S\").time().hour\n",
    "def day_of_moth(value):\n",
    "    return datetime.strptime(value, \"%Y-%m-%d %H:%M:%S\").month\n",
    "data_set['hour']= data_set['datetime'].map(hour_of_day)\n",
    "data_set['month']= data_set['datetime'].map(day_of_moth)\n",
    "data_set.head(10)\n"
   ],
   "metadata": {
    "collapsed": false,
    "pycharm": {
     "name": "#%%\n"
    }
   }
  },
  {
   "cell_type": "code",
   "execution_count": 60,
   "outputs": [
    {
     "name": "stdout",
     "output_type": "stream",
     "text": [
      "Array of Hours: [ 0  1  2  3  4  5  6  7  8  9 10 11 12 13 14 15 16 17 18 19 20 21 22 23]\n"
     ]
    },
    {
     "data": {
      "text/plain": "Text(0, 0.5, 'Avg num of bikes used')"
     },
     "execution_count": 60,
     "metadata": {},
     "output_type": "execute_result"
    },
    {
     "data": {
      "text/plain": "<Figure size 432x288 with 1 Axes>",
      "image/png": "[encoded data removed]"
     },
     "metadata": {
      "needs_background": "light"
     },
     "output_type": "display_data"
    }
   ],
   "source": [
    "hr = np.unique(data_set['hour'])\n",
    "print(\"Array of Hours:\",hr)\n",
    "\n",
    "hr_mean = {}\n",
    "for x in hr:\n",
    "    values = data_set.loc[data_set['hour'] == x]\n",
    "    hr_mean[x] = values['count'].mean()\n",
    "\n",
    "plot.bar(hr,[hr_mean[h] for h in hr], color='green')\n",
    "plot.title(\"Hour vs Number of Bike used over 2 years\")\n",
    "plot.xlabel(\"hours\")\n",
    "plot.ylabel(\"Avg num of bikes used\")"
   ],
   "metadata": {
    "collapsed": false,
    "pycharm": {
     "name": "#%%\n"
    }
   }
  },
  {
   "cell_type": "code",
   "execution_count": 61,
   "outputs": [
    {
     "name": "stdout",
     "output_type": "stream",
     "text": [
      "Array of Months: [ 1  2  3  4  5  6  7  8  9 10 11 12]\n"
     ]
    },
    {
     "data": {
      "text/plain": "Text(0, 0.5, 'Avg num of bikes used')"
     },
     "execution_count": 61,
     "metadata": {},
     "output_type": "execute_result"
    },
    {
     "data": {
      "text/plain": "<Figure size 432x288 with 1 Axes>",
      "image/png": "[encoded data removed]"
     },
     "metadata": {
      "needs_background": "light"
     },
     "output_type": "display_data"
    }
   ],
   "source": [
    "month = np.unique(data_set['month'])\n",
    "print(\"Array of Months:\",month)\n",
    "\n",
    "month_mean = {}\n",
    "for x in month:\n",
    "    values = data_set.loc[data_set['month'] == x]\n",
    "    month_mean[x] = values['count'].mean()\n",
    "\n",
    "plot.bar(month,[month_mean[h] for h in month], color='orange')\n",
    "plot.title(\"Month vs Number of Bike used over 2 years\")\n",
    "plot.xlabel(\"Months\")\n",
    "plot.ylabel(\"Avg num of bikes used\")"
   ],
   "metadata": {
    "collapsed": false,
    "pycharm": {
     "name": "#%%\n"
    }
   }
  },
  {
   "cell_type": "code",
   "execution_count": 62,
   "outputs": [
    {
     "data": {
      "text/plain": "<Figure size 432x288 with 1 Axes>",
      "image/png": "[encoded data removed]"
     },
     "metadata": {
      "needs_background": "light"
     },
     "output_type": "display_data"
    }
   ],
   "source": [
    "#to calculate casual and registered bike rentals\n",
    "data_set[['casual', 'registered']][:50].plot(kind='bar', stacked=True)\n",
    "plot.title(\"casual and registered rental\")\n",
    "plot.xlabel(\"Day\")\n",
    "plot.ylabel(\"Total number\")\n",
    "plot.show()"
   ],
   "metadata": {
    "collapsed": false,
    "pycharm": {
     "name": "#%%\n"
    }
   }
  },
  {
   "cell_type": "code",
   "execution_count": 63,
   "outputs": [
    {
     "name": "stdout",
     "output_type": "stream",
     "text": [
      "      hour  month  holiday  workingday  weather\n",
      "0        0      1        0           0        1\n",
      "1        1      1        0           0        1\n",
      "2        2      1        0           0        1\n",
      "3        3      1        0           0        1\n",
      "4        4      1        0           0        1\n",
      "...    ...    ...      ...         ...      ...\n",
      "9169    19     12        0           0        1\n",
      "9170    20     12        0           0        2\n",
      "9171    21     12        0           0        2\n",
      "9172    22     12        0           0        2\n",
      "9173    23     12        0           0        2\n",
      "\n",
      "[9174 rows x 5 columns]\n",
      "Fitting 2 folds for each of 10 candidates, totalling 20 fits\n"
     ]
    },
    {
     "data": {
      "text/plain": "{'n_estimators': 2000,\n 'min_samples_split': 10,\n 'min_samples_leaf': 4,\n 'max_depth': 100,\n 'bootstrap': True}"
     },
     "execution_count": 63,
     "metadata": {},
     "output_type": "execute_result"
    }
   ],
   "source": [
    "from sklearn.model_selection import train_test_split\n",
    "from sklearn import preprocessing\n",
    "from sklearn.model_selection import RandomizedSearchCV\n",
    "from sklearn.ensemble import RandomForestRegressor\n",
    "from sklearn.metrics import mean_squared_error\n",
    "from sklearn.metrics import r2_score\n",
    "model = RandomForestRegressor()\n",
    "columns = ['hour', 'month', 'holiday', 'workingday', 'weather']\n",
    "X= data_set[columns]\n",
    "print(X)\n",
    "X= preprocessing.scale(X)\n",
    "Y = data_set['count'].values\n",
    "Y = preprocessing.scale(Y)\n",
    "train_X, test_X, train_Y, test_Y = train_test_split(X,Y, test_size=0.3, random_state=100)\n",
    "train_X\n",
    "\n",
    "searching_params= {\n",
    "    'bootstrap': [True, False],\n",
    "    'max_depth': [10, 20, 50, 60, 90, 100, None],\n",
    "    'min_samples_leaf': [2, 4],\n",
    "    'min_samples_split': [6, 8, 10],\n",
    "    'n_estimators': [100, 200, 300, 400, 800, 1400, 1600, 1800, 2000]\n",
    "}\n",
    "searching = RandomizedSearchCV(estimator = model,\n",
    "                                       param_distributions = searching_params,\n",
    "                                       cv = 2, verbose=2,\n",
    "                                       random_state=42, n_jobs = -1)\n",
    "searching.fit(train_X,train_Y)\n",
    "searching.best_params_"
   ],
   "metadata": {
    "collapsed": false,
    "pycharm": {
     "name": "#%%\n"
    }
   }
  },
  {
   "cell_type": "code",
   "execution_count": 64,
   "outputs": [
    {
     "name": "stdout",
     "output_type": "stream",
     "text": [
      "Calculated RMS error is: 0.47596963978745344\n",
      "Calculated r2_score is: 0.7635157904879634\n"
     ]
    }
   ],
   "source": [
    "model.fit(train_X,train_Y)\n",
    "predict_count = model.predict(test_X)\n",
    "\n",
    "calculate_RMS = np.sqrt(mean_squared_error(test_Y,predict_count))\n",
    "print(\"Calculated RMS error is:\",calculate_RMS)\n",
    "print(\"Calculated r2_score is:\", r2_score(test_Y, predict_count))"
   ],
   "metadata": {
    "collapsed": false,
    "pycharm": {
     "name": "#%%\n"
    }
   }
  },
  {
   "cell_type": "code",
   "execution_count": 65,
   "outputs": [
    {
     "name": "stdout",
     "output_type": "stream",
     "text": [
      "File is saved as nitesh_timalsina_lab06.csv after the completion of prediction\n"
     ]
    }
   ],
   "source": [
    "# Saving completed data to csv file\n",
    "model.fit( data_set[columns], data_set['count'])\n",
    "pred_count = model.predict(data_set[columns])\n",
    "data_set['count'] = pred_count\n",
    "tested_value = data_set[['datetime','count']].to_csv('nitesh_timalsina_lab06.csv',\n",
    "    index=False, header=True)\n",
    "print(\"File is saved as nitesh_timalsina_lab06.csv after the completion of prediction\")\n"
   ],
   "metadata": {
    "collapsed": false,
    "pycharm": {
     "name": "#%%\n"
    }
   }
  },
  {
   "cell_type": "markdown",
   "metadata": {},
   "source": [
    " Question 2 (20 points) Build a regession model to predict the change in price of the stock overtime. It can either be linear regression or non-linear regression. You can download the dataset from here: https://github.com/suthapalliuday/INFO5502-Summer2022/blob/main/datasets/portfolio_data.csv. The implementation of the LSTM on this same dataset was posted here as an reference: https://www.kaggle.com/code/faressayah/stock-market-analysis-prediction-using-lstm/notebook"
   ]
  },
  {
   "cell_type": "markdown",
   "metadata": {},
   "source": [
    " ### Your code"
   ]
  },
  {
   "cell_type": "code",
   "execution_count": 66,
   "metadata": {},
   "outputs": [],
   "source": [
    "### You code here:\n",
    "\n"
   ]
  }
 ],
 "metadata": {
  "kernelspec": {
   "display_name": "Python 3 (ipykernel)",
   "language": "python",
   "name": "python3"
  },
  "language_info": {
   "codemirror_mode": {
    "name": "ipython",
    "version": 3
   },
   "file_extension": ".py",
   "mimetype": "text/x-python",
   "name": "python",
   "nbconvert_exporter": "python",
   "pygments_lexer": "ipython3",
   "version": "3.9.12"
  }
 },
 "nbformat": 4,
 "nbformat_minor": 4
}