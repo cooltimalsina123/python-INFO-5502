{
 "cells": [
  {
   "cell_type": "markdown",
   "metadata": {
    "colab_type": "text",
    "id": "DymRJbxDBCnf"
   },
   "source": [
    "# **The first Lab-assignment (07/15/2022 11:59'AM' to 7/19/2022 11:59PM, 50 points in total)**"
   ]
  },
  {
   "cell_type": "markdown",
   "metadata": {
    "colab_type": "text",
    "id": "jJDe71iLB616"
   },
   "source": [
    "(1) Write a Python program to count the number of characters in a string. (6 points)\n",
    "\n",
    "Sample String : 'google.com', \n",
    "\n",
    "Expected Result : {'o': 3, 'g': 2, '.': 1, 'e': 1, 'l': 1, 'm': 1, 'c': 1}"
   ]
  },
  {
   "cell_type": "code",
   "execution_count": 1,
   "metadata": {
    "colab": {},
    "colab_type": "code",
    "id": "MtKskTzbCLaU"
   },
   "outputs": [],
   "source": [
    "# write your answer here\n",
    "def given_string(provided_string):\n",
    "    char_repeated = {}\n",
    "    for x in provided_string:\n",
    "        if x in char_repeated:\n",
    "            char_repeated[x] += 1\n",
    "        else:\n",
    "            char_repeated[x] = 1\n",
    "    return char_repeated\n",
    "\n",
    "\n",
    "print(given_string('google'))\n"
   ]
  },
  {
   "cell_type": "markdown",
   "metadata": {
    "colab_type": "text",
    "id": "55W9AMdXCSpV"
   },
   "source": [
    "(2) Write a Python program to sum all the items in a list. (6 points)"
   ]
  },
  {
   "cell_type": "code",
   "execution_count": 2,
   "metadata": {
    "colab": {},
    "colab_type": "code",
    "id": "I57NXsauCec2"
   },
   "outputs": [],
   "source": [
    "# write your answer here\n",
    "def list_to_sum(numbers):\n",
    "    sum_result = 0\n",
    "    for x in numbers:\n",
    "        sum_result += x\n",
    "    return sum_result\n",
    "\n",
    "\n",
    "print(list_to_sum([1, 2, 3, 4]))\n"
   ]
  },
  {
   "cell_type": "markdown",
   "metadata": {
    "colab_type": "text",
    "id": "4ulBZ6yhCi9F"
   },
   "source": [
    "(3) Write a Python program to get a string from a given string where all occurrences of its first char have been changed to '\\$', except the first char itself. (6 points)\n",
    "\n",
    "Sample String : 'restart', \n",
    "\n",
    "Expected Result : 'resta\\$t'"
   ]
  },
  {
   "cell_type": "code",
   "execution_count": 3,
   "metadata": {
    "colab": {},
    "colab_type": "code",
    "id": "Fj0XhwbBCw2o"
   },
   "outputs": [],
   "source": [
    "# write your answer here\n",
    "\n",
    "def given_string(string_provided):\n",
    "    first_value = string_provided[0]\n",
    "    removed_value = string_provided[1:]\n",
    "    removed_value = removed_value.replace(first_value, '\\\\$')\n",
    "    return first_value+removed_value\n",
    "\n",
    "\n",
    "print(given_string('restart'))\n"
   ]
  },
  {
   "cell_type": "markdown",
   "metadata": {
    "colab_type": "text",
    "id": "_bIP7s1MCzue"
   },
   "source": [
    "(4) Write a program with python which could accept two parameter a and b to calculate and output the result of S, where \n",
    "\n",
    "$\\ S=3.14*(1+a/b)^3$ (6 points)\n",
    "\n"
   ]
  },
  {
   "cell_type": "code",
   "execution_count": 4,
   "metadata": {
    "colab": {},
    "colab_type": "code",
    "id": "w79QilHXD3Mg"
   },
   "outputs": [],
   "source": [
    "# write your answer here\n",
    "def formula_given(a, b):\n",
    "    s = float(3.14 * float((1 + a / b)**3))\n",
    "    return s\n",
    "\n",
    "\n",
    "print(formula_given(1, 2))\n",
    "\n"
   ]
  },
  {
   "cell_type": "markdown",
   "metadata": {
    "colab_type": "text",
    "id": "xCa2bK9aD4Q3"
   },
   "source": [
    "(5) Write a Python program to concatenate following dictionaries to create a new one. (6 points)\n",
    "\n",
    "Sample Dictionary : dic1={1:10, 2:20}, dic2={3:30, 4:40}, dic3={5:50,6:60}, \n",
    "\n",
    "Expected Result : {1: 10, 2: 20, 3: 30, 4: 40, 5: 50, 6: 60}\n"
   ]
  },
  {
   "cell_type": "code",
   "execution_count": 5,
   "metadata": {
    "colab": {},
    "colab_type": "code",
    "id": "_z4aLqAbEET1"
   },
   "outputs": [],
   "source": [
    "# write your answer here\n",
    "\n",
    "def concat_dic():\n",
    "    dic1 = {1:10, 2:20}\n",
    "    dic2 = {3:30, 4:40}\n",
    "    dic3 = {5:50, 6:60}\n",
    "    result = {}\n",
    "    result.update(dic1)\n",
    "    result.update(dic2)\n",
    "    result.update(dic3)\n",
    "\n",
    "    return result\n",
    "\n",
    "\n",
    "print(concat_dic())\n"
   ]
  },
  {
   "cell_type": "markdown",
   "metadata": {
    "colab_type": "text",
    "id": "0v48Vqa7FrQh"
   },
   "source": [
    "(6) Write a Python program to check whether an element exists within a tuple. (6 points)"
   ]
  },
  {
   "cell_type": "code",
   "execution_count": 6,
   "metadata": {
    "colab": {},
    "colab_type": "code",
    "id": "7WEmgq-DF2P1"
   },
   "outputs": [],
   "source": [
    "# write your answer here\n",
    "\n",
    "def check_value(tuple_value, elements):\n",
    "    if elements in tuple_value:\n",
    "        return \"element exist in tuple_value\"\n",
    "    else:\n",
    "        return \"element does not exist\"\n",
    "\n",
    "\n",
    "print(check_value([\"john\", \"mike\"], \"mike\"))"
   ]
  },
  {
   "cell_type": "markdown",
   "metadata": {
    "colab_type": "text",
    "id": "vD5PYLMuGga_"
   },
   "source": [
    "(7) Write a Python program to find maximum and the minimum value in a set. (6 points)"
   ]
  },
  {
   "cell_type": "code",
   "execution_count": 7,
   "metadata": {
    "colab": {},
    "colab_type": "code",
    "id": "t0D5kdJUGjjw"
   },
   "outputs": [],
   "source": [
    "# write your answer here\n",
    "\n",
    "def find_max_min(provided_set):\n",
    "    max_value = max(provided_set)\n",
    "    min_value = min(provided_set)\n",
    "\n",
    "    return 'max_value: ' + str(max_value) + ' and ' + 'min_value: ' + str(min_value)\n",
    "\n",
    "\n",
    "print(find_max_min([4, 2, 5, 8]))"
   ]
  },
  {
   "cell_type": "markdown",
   "metadata": {},
   "source": [
    "(8) Write a Python program to find the duplicate elements in a given array of integers. Return -1 If there are no such elements. (8 points)"
   ]
  },
  {
   "cell_type": "code",
   "execution_count": 8,
   "metadata": {},
   "outputs": [],
   "source": [
    "# write your answer here\n",
    "\n",
    "def find_duplicate(arr):\n",
    "    check_value = set()\n",
    "    result = []\n",
    "    for x in arr:\n",
    "        if x in check_value:\n",
    "            result.append(x)\n",
    "        else:\n",
    "            check_value.add(x)\n",
    "\n",
    "    return result\n",
    "\n",
    "\n",
    "print(find_duplicate([1, 2, 3, 5, 2, 5]))\n"
   ]
  }
 ],
 "metadata": {
  "colab": {
   "collapsed_sections": [],
   "include_colab_link": true,
   "name": "In_class_exercise_01.ipynb",
   "provenance": []
  },
  "kernelspec": {
   "display_name": "Python 3 (ipykernel)",
   "language": "python",
   "name": "python3"
  },
  "language_info": {
   "codemirror_mode": {
    "name": "ipython",
    "version": 3
   },
   "file_extension": ".py",
   "mimetype": "text/x-python",
   "name": "python",
   "nbconvert_exporter": "python",
   "pygments_lexer": "ipython3",
   "version": "3.9.12"
  },
  "vscode": {
   "interpreter": {
    "hash": "5c6a7f839effdddf35473dacbb9a8184e57ebbba5133cab03b12e4f28d4f0d0f"
   }
  }
 },
 "nbformat": 4,
 "nbformat_minor": 1
}