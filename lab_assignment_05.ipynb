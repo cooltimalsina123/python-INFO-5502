{
 "cells": [
  {
   "cell_type": "markdown",
   "metadata": {},
   "source": [
    "## The fifth Lab-assignment (07/29/2022 11:59'AM' - 08/02/2022 11:59PM, 50 points in total)"
   ]
  },
  {
   "cell_type": "markdown",
   "metadata": {},
   "source": [
    "The purpose of this exercise is to understand Data Visualization, we will practice how to create visualizations for different datasets bu using different tools."
   ]
  },
  {
   "cell_type": "markdown",
   "metadata": {},
   "source": [
    "Question 1 (50 points). In this questions, you will design a visualization for a small data set and provide a rigorous rationale for your design choices. \n",
    "\n",
    "Every 10 years, the census bureau documents the demographic make-up of the United States, influencing everything from congressional districting to social services. This dataset contains a high-level summary of census data for two years a century apart: 1900 and 2000. The data is a CSV (comma-separated values) file that describes the U.S. population in terms of year, reported sex (1: male, 2: female), age group (binned into 5 year segments from 0-4 years old up to 90+ years old), and the total count of people per group. There are 38 data points per year, for a total of 76 data points.\n",
    "\n",
    "You can download the dataset here: \n",
    "\n",
    "Dataset: https://github.com/suthapalliuday/INFO5502-Summer2022/blob/main/datasets/lab_assignment_05_census.csv\n",
    "\n",
    "Source: https://www.ipums.org/\n",
    "\n",
    "(1)(10 points) Start by choosing a question you'd like a visualization to answer.\n",
    "\n",
    "(2)(30 points) Generate a static visualization (i.e., a single image) that you believe effectively answers that question, and use the question as the title of your graphic.\n",
    "\n",
    "(3)(10 points) Provide a short write-up (no more than 3 paragraphs) describing your design.\n",
    "\n",
    "\n",
    "While you must use the data set given, you are free to transform the data as you see fit. Such transforms may include (but are not limited to) log transformation, computing percentages or averages, grouping elements into new categories, or removing unnecessary variables or records. You are also free to incorporate external data as you see fit. Your chart image should be interpretable without recourse to your short write-up. Do not forget to include title, axis labels or legends as needed!\n",
    "\n",
    "As different visualizations can emphasize different aspects of a data set, you should document what aspects of the data you are attempting to most effectively communicate. In short, what story are you trying to tell? Just as important, also note which aspects of the data might be obscured or down-played due to your visualization design.\n",
    "\n",
    "In your write-up, you should provide a rigorous rationale for your design decisions. Document the visual encodings you used and why they are appropriate for the data and your specific question. These decisions include the choice of visualization type, size, color, scale, and other visual elements, as well as the use of sorting or other data transformations. How do these decisions facilitate effective communication?\n",
    "\n",
    "\n",
    "\n",
    "# Your answer here (question + explanation):\n",
    "\n",
    "'''\n",
    "For question number one my goal will be to capture all the\n",
    "population for ten year gap. example:\n",
    "population from age 0-10, population from 10-20,\n",
    "and and so on.\n",
    "Trying to find if the population is increasing or deacreasing.\n",
    "Trying to find if young population is more than old population.\n",
    "\n",
    "'''\n",
    "\n",
    "\n"
   ]
  },
  {
   "cell_type": "code",
   "execution_count": 6,
   "metadata": {},
   "outputs": [
    {
     "ename": "ModuleNotFoundError",
     "evalue": "No module named 'pandas'",
     "output_type": "error",
     "traceback": [
      "\u001B[0;31m---------------------------------------------------------------------------\u001B[0m",
      "\u001B[0;31mModuleNotFoundError\u001B[0m                       Traceback (most recent call last)",
      "Input \u001B[0;32mIn [6]\u001B[0m, in \u001B[0;36m<cell line: 8>\u001B[0;34m()\u001B[0m\n\u001B[1;32m      1\u001B[0m \u001B[38;5;66;03m# Your answer here (python code + explanation):\u001B[39;00m\n\u001B[1;32m      2\u001B[0m \n\u001B[1;32m      3\u001B[0m \u001B[38;5;66;03m# Your answer here (python code + explanation):\u001B[39;00m\n\u001B[1;32m      4\u001B[0m \n\u001B[1;32m      5\u001B[0m \u001B[38;5;66;03m# Generate a static visualization (i.e., a single image) that you believe effectively answers that question,\u001B[39;00m\n\u001B[1;32m      6\u001B[0m \u001B[38;5;66;03m# and use the question as the title of your graphic.\u001B[39;00m\n\u001B[0;32m----> 8\u001B[0m \u001B[38;5;28;01mimport\u001B[39;00m \u001B[38;5;21;01mpandas\u001B[39;00m \u001B[38;5;28;01mas\u001B[39;00m \u001B[38;5;21;01mpd\u001B[39;00m\n\u001B[1;32m      9\u001B[0m \u001B[38;5;28;01mimport\u001B[39;00m \u001B[38;5;21;01mplotly\u001B[39;00m\u001B[38;5;21;01m.\u001B[39;00m\u001B[38;5;21;01mgraph_objects\u001B[39;00m \u001B[38;5;28;01mas\u001B[39;00m \u001B[38;5;21;01mgo\u001B[39;00m\n\u001B[1;32m     11\u001B[0m \u001B[38;5;66;03m#import csv\u001B[39;00m\n",
      "\u001B[0;31mModuleNotFoundError\u001B[0m: No module named 'pandas'"
     ]
    }
   ],
   "source": [
    "# Your answer here (python code + explanation):\n",
    "\n",
    "# Your answer here (python code + explanation):\n",
    "\n",
    "# Generate a static visualization (i.e., a single image) that you believe effectively answers that question,\n",
    "# and use the question as the title of your graphic.\n",
    "\n",
    "import pandas as pd\n",
    "import plotly.graph_objects as go\n",
    "\n",
    "#import csv\n",
    "df = pd.read_csv('lab_assignment_05_census.csv')\n",
    "\n",
    "#Replace gender by text label for readability\n",
    "gender = {1:'male', 2: 'female'}\n",
    "df.Sex = [gender[item] for item in df.Sex]\n",
    "\n",
    "#Replace age by text label for readability\n",
    "age_group ={\n",
    "    0: '0 - 5',\n",
    "    5: '5 - 9',\n",
    "    10:'10 - 14',\n",
    "    15:'15 - 19',\n",
    "    20:'20 - 24',\n",
    "    25:'25 - 29',\n",
    "    30:'30 - 34',\n",
    "    35: '35 - 39',\n",
    "    40:'40 - 44',\n",
    "    45:'45 - 49',\n",
    "    50:'50 - 54',\n",
    "    55:'55 - 59',\n",
    "    60:'60 - 64',\n",
    "    65:'65 - 69',\n",
    "    70:'70 - 74',\n",
    "    75:'75 - 79',\n",
    "    80:'80 - 84',\n",
    "    85:'85 - 89',\n",
    "    90:'90+'\n",
    "}\n",
    "\n",
    "df.Age = [age_group[item] for item in df.Age]\n",
    "\n",
    "\n",
    "\n",
    "#Configure visualization\n",
    "colors = [\"#347DC1\", \"#B85887\"]\n",
    "\n",
    "fig = go.Figure()\n",
    "fig.update_layout(\n",
    "    autosize=False,\n",
    "    width=1200,\n",
    "    height=500,\n",
    "    template=\"simple_white\",\n",
    "    xaxis=dict(title_text=\"Age Group\"),\n",
    "    yaxis=dict(title_text=\"Population\"),\n",
    "    barmode=\"stack\",\n",
    ")\n",
    "\n",
    "for r, c in zip(df.Sex.unique(), colors):\n",
    "    plot_df = df[df.Sex == r]\n",
    "    fig.add_trace(\n",
    "        go.Bar(x=[plot_df.Age, plot_df.Year], y=plot_df.People, name=r, marker_color=c),\n",
    "    )\n",
    "\n",
    "\n",
    "fig.show(\"png\")\n",
    "\n",
    "\n"
   ]
  },
  {
   "cell_type": "code",
   "execution_count": null,
   "metadata": {},
   "outputs": [],
   "source": [
    "# Your answer here (interpretation of the results):\n",
    "\n",
    "\n",
    "\n"
   ]
  }
 ],
 "metadata": {
  "kernelspec": {
   "display_name": "Python 3 (ipykernel)",
   "language": "python",
   "name": "python3"
  },
  "language_info": {
   "codemirror_mode": {
    "name": "ipython",
    "version": 3
   },
   "file_extension": ".py",
   "mimetype": "text/x-python",
   "name": "python",
   "nbconvert_exporter": "python",
   "pygments_lexer": "ipython3",
   "version": "3.9.12"
  }
 },
 "nbformat": 4,
 "nbformat_minor": 2
}