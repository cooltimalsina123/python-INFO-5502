{
 "cells": [
  {
   "cell_type": "markdown",
   "metadata": {},
   "source": [
    "## The third Lab-assignment (07/22/2022 11:59'AM' - 07/26/2022 11:59PM, 50 points in total)"
   ]
  },
  {
   "cell_type": "markdown",
   "metadata": {},
   "source": [
    "The purpose of this exercise is to understand users' information needs, then collect data from different sources for analysis."
   ]
  },
  {
   "cell_type": "markdown",
   "metadata": {},
   "source": [
    "Question 1 (10 points). Fomulate your domain problem: Describe an interesting research question (or practical question) you have in mind, what kind of data should be collected to answer the question(s)? How many data needed for the analysis? The detail steps for collecting and save the data. "
   ]
  },
  {
   "cell_type": "code",
   "execution_count": null,
   "metadata": {},
   "outputs": [],
   "source": [
    "# Your answer here (no code for this question, write down your answer as detail as possible for the above questions):\n",
    "\n",
    "'''\n",
    "Please write you answer here:\n",
    "My Domain Problem:\n",
    "- My Domain problem is to analyze the text data of the job post for Data science in job searching platform\n",
    "\n",
    "Reasearch Question:\n",
    "- By doing data analysis we will be understanding what kind of requirement suits for data science job hunter, is job location good, is\n",
    "the job type suitable, is salary competitive\n",
    "\n",
    "Data to be collected are:\n",
    "- published position by speacific company\n",
    "- location\n",
    "- job title\n",
    "- job requirement\n",
    "- date posted\n",
    "- job type\n",
    "- salary\n",
    "\n",
    "Almost 1000 data will be enough to decide the job hunter to analyse if job is suitable of not\n",
    "Data will be collected from this link : https://www.indeed.com/\n",
    "\n",
    "Detail steps for collecting and saving data will be:\n",
    "- we will use web scraping technique to scrape data\n",
    "- we will use Beautifulsoup library to pull the data from html and xml file from indeed web page\n",
    "- By right clicking we will be able to inpect web page which will help use get the information such as company name, \n",
    "job title, job requirement, date posted, job type, salary\n",
    "- main target will be geting xlxs format and to do so we will be parsing body and element into html code and will be storing it into\n",
    "csv format\n",
    "\n",
    "'''"
   ]
  },
  {
   "cell_type": "markdown",
   "metadata": {},
   "source": [
    "Question 2 (30 points). Collect your data to answer the research problem: Write python code to collect 1000 data samples you discussed above."
   ]
  },
  {
   "cell_type": "code",
   "execution_count": null,
   "metadata": {},
   "outputs": [
    {
     "ename": "",
     "evalue": "",
     "output_type": "error",
     "traceback": [
      "\u001b[1;31mRunning cells with 'Python 3.8.2 64-bit' requires ipykernel package.\n",
      "Run the following command to install 'ipykernel' into the Python environment. \n",
      "Command: '/usr/bin/python3 -m pip install ipykernel -U --user --force-reinstall'"
     ]
    }
   ],
   "source": [
    "# You code here (Please add comments in the code):\n",
    "\n",
    "import urllib.request\n",
    "from bs4 import BeautifulSoup\n",
    "import pandas as pd\n",
    "import csv\n",
    "\n",
    "url_page = \"https://en.wikipedia.org/wiki/List_of_state_and_union_territory_capitals_in_India\"\n",
    "\n",
    "webpage = urllib.request.urlopen(url_page)\n",
    "soup = BeautifulSoup(webpage)\n",
    "print(soup.prettify())\n",
    "\n",
    "\n",
    "\n",
    "\n"
   ]
  },
  {
   "cell_type": "markdown",
   "metadata": {},
   "source": [
    "Question 3 (10 points). Understand the data quality: Search a second hand dataset (any dataset) from kaggle or other websites. Describe the data quality problem of the dataset and explain your strtegy to clean the data."
   ]
  },
  {
   "cell_type": "code",
   "execution_count": null,
   "metadata": {},
   "outputs": [],
   "source": [
    "# Your answer here (no code for this question, write down your answer as detail as possible for the above questions):\n",
    "'''\n",
    "\n",
    "Please write you answer here:\n",
    "\n",
    "Dataset Link from Kaggle:\n",
    "https://www.kaggle.com/datasets/iamsouravbanerjee/house-rent-prediction-dataset?select=House_Rent_Dataset.csv\n",
    "\n",
    "Data quality problem and solution\n",
    "- Floor plan is not understandable to normal reader. So I will format that floor plan writing style by searching each value \n",
    "I want to change in the column using panda dataframe and changing it with the value I want\n",
    "- Size column is not clear. I will be providing proper unit in the size using same method dataframe\n",
    "- Many unwanted space are their in area locality and furnishing status. I will be removing those unwanted character and also will\n",
    "remove special character by using different filtration technique of pandas\n",
    "- I will be deleteing any unwanted row or empty row in the table by checking if there are any null row in the table by using .isnull()\n",
    "method of pandas\n",
    "- I will check if there have a severe class imbalance, if yes i will be using SMOTE to solve that problem \n",
    "- I will be removing all the duplicate row from the table by using .drop)duplicate() method usign pandas\n",
    "\n",
    "'''"
   ]
  }
 ],
 "metadata": {
  "kernelspec": {
   "display_name": "Python 3 (ipykernel)",
   "language": "python",
   "name": "python3"
  },
  "language_info": {
   "codemirror_mode": {
    "name": "ipython",
    "version": 3
   },
   "file_extension": ".py",
   "mimetype": "text/x-python",
   "name": "python",
   "nbconvert_exporter": "python",
   "pygments_lexer": "ipython3",
   "version": "3.8.2"
  },
  "vscode": {
   "interpreter": {
    "hash": "5c6a7f839effdddf35473dacbb9a8184e57ebbba5133cab03b12e4f28d4f0d0f"
   }
  }
 },
 "nbformat": 4,
 "nbformat_minor": 2
}
