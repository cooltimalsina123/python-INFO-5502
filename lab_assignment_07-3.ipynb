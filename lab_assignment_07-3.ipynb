{
 "cells": [
  {
   "cell_type": "markdown",
   "metadata": {},
   "source": [
    "## The Seventh Lab-assignment (08/05/2022 11:59'AM' - 08/09/2022 11:59PM, 50 points in total)"
   ]
  },
  {
   "cell_type": "markdown",
   "metadata": {},
   "source": [
    "The purpose of this exercise is to understand how to conduct Sampling and Distributions. The data used in this lab assignment will contain salary data and other statistics for basketball players from the 2014-2015 NBA season. This data was collected from the following sports analytic sites: [Basketball Reference](http://www.basketball-reference.com) and [Spotrac](http://www.spotrac.com). The dataset of this assignment can be downloaded from github: https://github.com/suthapalliuday/INFO5502-Summer2022/tree/main/datasets/lab-assignment-7\n",
    "\n",
    "First, set up the tests and imports by running the cell below."
   ]
  },
  {
   "cell_type": "code",
   "execution_count": null,
   "metadata": {
    "pycharm": {
     "is_executing": true
    }
   },
   "outputs": [
    {
     "name": "stdout",
     "output_type": "stream",
     "text": [
      "Requirement already satisfied: datascience in /Users/rockingtimalsina/Documents/COLLEGE/GITHUB/python-INFO-5502/venv/lib/python3.10/site-packages (0.17.5)\r\n",
      "Requirement already satisfied: folium>=0.9.1 in /Users/rockingtimalsina/Documents/COLLEGE/GITHUB/python-INFO-5502/venv/lib/python3.10/site-packages (from datascience) (0.12.1.post1)\r\n",
      "Requirement already satisfied: setuptools in /Users/rockingtimalsina/Documents/COLLEGE/GITHUB/python-INFO-5502/venv/lib/python3.10/site-packages (from datascience) (63.4.0)\r\n",
      "Requirement already satisfied: matplotlib>=3.0.0 in /Users/rockingtimalsina/Documents/COLLEGE/GITHUB/python-INFO-5502/venv/lib/python3.10/site-packages (from datascience) (3.5.2)\r\n",
      "Requirement already satisfied: pandas in /Users/rockingtimalsina/Documents/COLLEGE/GITHUB/python-INFO-5502/venv/lib/python3.10/site-packages (from datascience) (1.4.3)\r\n",
      "Requirement already satisfied: scipy in /Users/rockingtimalsina/Documents/COLLEGE/GITHUB/python-INFO-5502/venv/lib/python3.10/site-packages (from datascience) (1.9.0)\r\n",
      "Requirement already satisfied: numpy in /Users/rockingtimalsina/Documents/COLLEGE/GITHUB/python-INFO-5502/venv/lib/python3.10/site-packages (from datascience) (1.23.1)\r\n",
      "Requirement already satisfied: ipython in /Users/rockingtimalsina/Documents/COLLEGE/GITHUB/python-INFO-5502/venv/lib/python3.10/site-packages (from datascience) (8.4.0)\r\n",
      "Requirement already satisfied: plotly in /Users/rockingtimalsina/Documents/COLLEGE/GITHUB/python-INFO-5502/venv/lib/python3.10/site-packages (from datascience) (5.9.0)\r\n",
      "Requirement already satisfied: branca in /Users/rockingtimalsina/Documents/COLLEGE/GITHUB/python-INFO-5502/venv/lib/python3.10/site-packages (from datascience) (0.5.0)\r\n",
      "Requirement already satisfied: jinja2>=2.9 in /Users/rockingtimalsina/Documents/COLLEGE/GITHUB/python-INFO-5502/venv/lib/python3.10/site-packages (from folium>=0.9.1->datascience) (3.1.2)\r\n",
      "Requirement already satisfied: requests in /Users/rockingtimalsina/Documents/COLLEGE/GITHUB/python-INFO-5502/venv/lib/python3.10/site-packages (from folium>=0.9.1->datascience) (2.28.1)\r\n",
      "Requirement already satisfied: packaging>=20.0 in /Users/rockingtimalsina/Documents/COLLEGE/GITHUB/python-INFO-5502/venv/lib/python3.10/site-packages (from matplotlib>=3.0.0->datascience) (21.3)\r\n",
      "Requirement already satisfied: kiwisolver>=1.0.1 in /Users/rockingtimalsina/Documents/COLLEGE/GITHUB/python-INFO-5502/venv/lib/python3.10/site-packages (from matplotlib>=3.0.0->datascience) (1.4.4)\r\n",
      "Requirement already satisfied: pillow>=6.2.0 in /Users/rockingtimalsina/Documents/COLLEGE/GITHUB/python-INFO-5502/venv/lib/python3.10/site-packages (from matplotlib>=3.0.0->datascience) (9.2.0)\r\n",
      "Requirement already satisfied: cycler>=0.10 in /Users/rockingtimalsina/Documents/COLLEGE/GITHUB/python-INFO-5502/venv/lib/python3.10/site-packages (from matplotlib>=3.0.0->datascience) (0.11.0)\r\n",
      "Requirement already satisfied: fonttools>=4.22.0 in /Users/rockingtimalsina/Documents/COLLEGE/GITHUB/python-INFO-5502/venv/lib/python3.10/site-packages (from matplotlib>=3.0.0->datascience) (4.34.4)\r\n",
      "Requirement already satisfied: python-dateutil>=2.7 in /Users/rockingtimalsina/Documents/COLLEGE/GITHUB/python-INFO-5502/venv/lib/python3.10/site-packages (from matplotlib>=3.0.0->datascience) (2.8.2)\r\n",
      "Requirement already satisfied: pyparsing>=2.2.1 in /Users/rockingtimalsina/Documents/COLLEGE/GITHUB/python-INFO-5502/venv/lib/python3.10/site-packages (from matplotlib>=3.0.0->datascience) (3.0.9)\r\n",
      "Requirement already satisfied: jedi>=0.16 in /Users/rockingtimalsina/Documents/COLLEGE/GITHUB/python-INFO-5502/venv/lib/python3.10/site-packages (from ipython->datascience) (0.18.1)\r\n",
      "Requirement already satisfied: backcall in /Users/rockingtimalsina/Documents/COLLEGE/GITHUB/python-INFO-5502/venv/lib/python3.10/site-packages (from ipython->datascience) (0.2.0)\r\n",
      "Requirement already satisfied: pygments>=2.4.0 in /Users/rockingtimalsina/Documents/COLLEGE/GITHUB/python-INFO-5502/venv/lib/python3.10/site-packages (from ipython->datascience) (2.12.0)\r\n",
      "Requirement already satisfied: pexpect>4.3 in /Users/rockingtimalsina/Documents/COLLEGE/GITHUB/python-INFO-5502/venv/lib/python3.10/site-packages (from ipython->datascience) (4.8.0)\r\n",
      "Requirement already satisfied: decorator in /Users/rockingtimalsina/Documents/COLLEGE/GITHUB/python-INFO-5502/venv/lib/python3.10/site-packages (from ipython->datascience) (5.1.1)\r\n",
      "Requirement already satisfied: appnope in /Users/rockingtimalsina/Documents/COLLEGE/GITHUB/python-INFO-5502/venv/lib/python3.10/site-packages (from ipython->datascience) (0.1.3)\r\n",
      "Requirement already satisfied: traitlets>=5 in /Users/rockingtimalsina/Documents/COLLEGE/GITHUB/python-INFO-5502/venv/lib/python3.10/site-packages (from ipython->datascience) (5.3.0)\r\n",
      "Requirement already satisfied: pickleshare in /Users/rockingtimalsina/Documents/COLLEGE/GITHUB/python-INFO-5502/venv/lib/python3.10/site-packages (from ipython->datascience) (0.7.5)\r\n",
      "Requirement already satisfied: stack-data in /Users/rockingtimalsina/Documents/COLLEGE/GITHUB/python-INFO-5502/venv/lib/python3.10/site-packages (from ipython->datascience) (0.3.0)\r\n",
      "Requirement already satisfied: prompt-toolkit!=3.0.0,!=3.0.1,<3.1.0,>=2.0.0 in /Users/rockingtimalsina/Documents/COLLEGE/GITHUB/python-INFO-5502/venv/lib/python3.10/site-packages (from ipython->datascience) (3.0.30)\r\n",
      "Requirement already satisfied: matplotlib-inline in /Users/rockingtimalsina/Documents/COLLEGE/GITHUB/python-INFO-5502/venv/lib/python3.10/site-packages (from ipython->datascience) (0.1.3)\r\n",
      "Requirement already satisfied: pytz>=2020.1 in /Users/rockingtimalsina/Documents/COLLEGE/GITHUB/python-INFO-5502/venv/lib/python3.10/site-packages (from pandas->datascience) (2022.1)\r\n",
      "Requirement already satisfied: tenacity>=6.2.0 in /Users/rockingtimalsina/Documents/COLLEGE/GITHUB/python-INFO-5502/venv/lib/python3.10/site-packages (from plotly->datascience) (8.0.1)\r\n",
      "Requirement already satisfied: parso<0.9.0,>=0.8.0 in /Users/rockingtimalsina/Documents/COLLEGE/GITHUB/python-INFO-5502/venv/lib/python3.10/site-packages (from jedi>=0.16->ipython->datascience) (0.8.3)\r\n",
      "Requirement already satisfied: MarkupSafe>=2.0 in /Users/rockingtimalsina/Documents/COLLEGE/GITHUB/python-INFO-5502/venv/lib/python3.10/site-packages (from jinja2>=2.9->folium>=0.9.1->datascience) (2.1.1)\r\n",
      "Requirement already satisfied: ptyprocess>=0.5 in /Users/rockingtimalsina/Documents/COLLEGE/GITHUB/python-INFO-5502/venv/lib/python3.10/site-packages (from pexpect>4.3->ipython->datascience) (0.7.0)\r\n",
      "Requirement already satisfied: wcwidth in /Users/rockingtimalsina/Documents/COLLEGE/GITHUB/python-INFO-5502/venv/lib/python3.10/site-packages (from prompt-toolkit!=3.0.0,!=3.0.1,<3.1.0,>=2.0.0->ipython->datascience) (0.2.5)\r\n",
      "Requirement already satisfied: six>=1.5 in /Users/rockingtimalsina/Documents/COLLEGE/GITHUB/python-INFO-5502/venv/lib/python3.10/site-packages (from python-dateutil>=2.7->matplotlib>=3.0.0->datascience) (1.16.0)\r\n",
      "Requirement already satisfied: charset-normalizer<3,>=2 in /Users/rockingtimalsina/Documents/COLLEGE/GITHUB/python-INFO-5502/venv/lib/python3.10/site-packages (from requests->folium>=0.9.1->datascience) (2.1.0)\r\n",
      "Requirement already satisfied: idna<4,>=2.5 in /Users/rockingtimalsina/Documents/COLLEGE/GITHUB/python-INFO-5502/venv/lib/python3.10/site-packages (from requests->folium>=0.9.1->datascience) (3.3)\r\n",
      "Requirement already satisfied: urllib3<1.27,>=1.21.1 in /Users/rockingtimalsina/Documents/COLLEGE/GITHUB/python-INFO-5502/venv/lib/python3.10/site-packages (from requests->folium>=0.9.1->datascience) (1.26.11)\r\n",
      "Requirement already satisfied: certifi>=2017.4.17 in /Users/rockingtimalsina/Documents/COLLEGE/GITHUB/python-INFO-5502/venv/lib/python3.10/site-packages (from requests->folium>=0.9.1->datascience) (2022.6.15)\r\n",
      "Requirement already satisfied: pure-eval in /Users/rockingtimalsina/Documents/COLLEGE/GITHUB/python-INFO-5502/venv/lib/python3.10/site-packages (from stack-data->ipython->datascience) (0.2.2)\r\n",
      "Requirement already satisfied: asttokens in /Users/rockingtimalsina/Documents/COLLEGE/GITHUB/python-INFO-5502/venv/lib/python3.10/site-packages (from stack-data->ipython->datascience) (2.0.5)\r\n",
      "Requirement already satisfied: executing in /Users/rockingtimalsina/Documents/COLLEGE/GITHUB/python-INFO-5502/venv/lib/python3.10/site-packages (from stack-data->ipython->datascience) (0.9.1)\r\n"
     ]
    }
   ],
   "source": [
    "# Install the required package\n",
    "!pip install datascience"
   ]
  },
  {
   "cell_type": "code",
   "execution_count": null,
   "metadata": {
    "pycharm": {
     "is_executing": true
    }
   },
   "outputs": [],
   "source": [
    "# Run this cell, but please don't change it.\n",
    "\n",
    "# These lines import the Numpy and Datascience modules.\n",
    "import numpy as np\n",
    "from datascience import *\n",
    "\n",
    "# These lines do some fancy plotting magic\n",
    "import matplotlib\n",
    "%matplotlib inline\n",
    "import matplotlib.pyplot as plt\n",
    "plt.style.use('fivethirtyeight')"
   ]
  },
  {
   "cell_type": "markdown",
   "metadata": {},
   "source": [
    "Run the cell below to load player and salary data that we will use for our sampling."
   ]
  },
  {
   "cell_type": "code",
   "execution_count": null,
   "metadata": {
    "pycharm": {
     "is_executing": true
    }
   },
   "outputs": [],
   "source": [
    "player_data = Table().read_table(\"player_data.csv\")\n",
    "salary_data = Table().read_table(\"salary_data.csv\")\n",
    "full_data = salary_data.join(\"PlayerName\", player_data, \"Name\")\n",
    "\n",
    "# The show method immediately displays the contents of a table. \n",
    "# This way, we can display the top of two tables using a single cell.\n",
    "player_data.show(3)\n",
    "salary_data.show(3)\n",
    "full_data.show(3)"
   ]
  },
  {
   "cell_type": "markdown",
   "metadata": {},
   "source": [
    "Rather than getting data on every player (as in the tables loaded above), imagine that we had gotten data on only a smaller subset of the players. For 492 players, it's not so unreasonable to expect to see all the data, but usually we aren't so lucky.\n",
    "\n",
    "If we want to make estimates about a certain numerical property of the population (known as a statistic, e.g. the mean or median), we may have to come up with these estimates based only on a smaller sample. Whether these estimates are useful or not often depends on how the sample was gathered. We have prepared some example sample datasets to see how they compare to the full NBA dataset. Later we'll ask you to create your own samples to see how they behave."
   ]
  },
  {
   "cell_type": "markdown",
   "metadata": {},
   "source": [
    "To save typing and increase the clarity of your code, we will package the analysis code into a few functions. This will be useful in the rest of the lab as we will repeatedly need to create histograms and collect summary statistics from that data."
   ]
  },
  {
   "cell_type": "markdown",
   "metadata": {},
   "source": [
    "We've defined the histograms function below, which takes a table with columns Age and Salary and draws a histogram for each one. It uses bin widths of 1 year for Age and $1,000,000 for Salary."
   ]
  },
  {
   "cell_type": "code",
   "execution_count": null,
   "metadata": {
    "pycharm": {
     "is_executing": true
    }
   },
   "outputs": [],
   "source": [
    "def histograms(t):\n",
    "    ages = t.column('Age')\n",
    "    salaries = t.column('Salary')/1000000\n",
    "    t1 = t.drop('Salary').with_column('Salary', salaries)\n",
    "    age_bins = np.arange(min(ages), max(ages) + 2, 1) \n",
    "    salary_bins = np.arange(min(salaries), max(salaries) + 1, 1)\n",
    "    t1.hist('Age', bins=age_bins, unit='year')\n",
    "    plt.title('Age distribution')\n",
    "    t1.hist('Salary', bins=salary_bins, unit='million dollars')\n",
    "    plt.title('Salary distribution') \n",
    "    \n",
    "histograms(full_data)\n",
    "print('Two histograms should be displayed below')"
   ]
  },
  {
   "cell_type": "markdown",
   "metadata": {},
   "source": [
    "### Question 1 (10 points) \n",
    "\n",
    "Create a function called compute_statistics that takes a table containing ages and salaries and:\n",
    "\n",
    "(1) Draws a histogram of ages\n",
    "\n",
    "(2) Draws a histogram of salaries\n",
    "\n",
    "(3) Returns a two-element array containing the average age and average salary (in that order)\n",
    "\n",
    "\n",
    "You can call the histograms function to draw the histograms!\n",
    "\n",
    "Note: More charts will be displayed when running the test cell. Please feel free to ignore the charts."
   ]
  },
  {
   "cell_type": "code",
   "execution_count": null,
   "metadata": {
    "pycharm": {
     "is_executing": true
    }
   },
   "outputs": [],
   "source": [
    "### You code here\n",
    "\n",
    "def compute_statistics(age_and_salary_data):\n",
    "    histograms(age_and_salary_data)\n",
    "    age = age_and_salary_data.column(\"Age\")\n",
    "    salary = age_and_salary_data.column(\"Salary\")\n",
    "    return make_array(np.mean(age), np.mean(salary))\n",
    "    \n",
    "\n",
    "full_stats = compute_statistics(full_data)\n",
    "full_stats\n",
    "\n"
   ]
  },
  {
   "cell_type": "code",
   "execution_count": null,
   "metadata": {
    "pycharm": {
     "is_executing": true
    }
   },
   "outputs": [],
   "source": [
    "# TEST\n",
    "stats = compute_statistics(full_data)\n",
    "plt.close()\n",
    "plt.close()\n",
    "round(float(stats[0]), 2) == 26.54\n",
    "\n"
   ]
  },
  {
   "cell_type": "code",
   "execution_count": null,
   "metadata": {
    "pycharm": {
     "is_executing": true
    }
   },
   "outputs": [],
   "source": [
    "# TEST\n",
    "stats = compute_statistics(full_data)\n",
    "plt.close()\n",
    "plt.close()\n",
    "round(float(stats[1]), 2) == 4269775.77\n",
    "\n"
   ]
  },
  {
   "cell_type": "markdown",
   "metadata": {},
   "source": [
    "### Question 2 (10 points) Convenience sampling\n",
    "\n",
    "One sampling methodology, which is generally a bad idea, is to choose players who are somehow convenient to sample. For example, you might choose players from one team who are near your house, since it's easier to survey them. This is called, somewhat pejoratively, convenience sampling.\n",
    "\n",
    "Suppose you survey only relatively new players with ages less than 22. (The more experienced players didn't bother to answer your surveys about their salaries.)\n",
    "\n",
    "Assign `convenience_sample` to a subset of `full_data` that contains only the rows for players under the age of 22."
   ]
  },
  {
   "cell_type": "code",
   "execution_count": null,
   "metadata": {
    "pycharm": {
     "is_executing": true
    }
   },
   "outputs": [],
   "source": [
    "### You code here:\n",
    "\n",
    "convenience_sample = full_data.where(\"Age\", are.below(22))\n",
    "convenience_sample\n",
    "\n",
    "\n",
    "\n"
   ]
  },
  {
   "cell_type": "code",
   "execution_count": null,
   "metadata": {
    "pycharm": {
     "is_executing": true
    }
   },
   "outputs": [],
   "source": [
    "# TEST\n",
    "convenience_sample.num_columns == 11\n",
    "\n"
   ]
  },
  {
   "cell_type": "code",
   "execution_count": null,
   "metadata": {
    "pycharm": {
     "is_executing": true
    }
   },
   "outputs": [],
   "source": [
    "# TEST\n",
    "convenience_sample.num_rows == 44\n",
    "\n"
   ]
  },
  {
   "cell_type": "markdown",
   "metadata": {},
   "source": [
    "### Question 3 (10 points) \n",
    "\n",
    "Assign convenience_stats to an array of the average age and average salary of your convenience sample, using the compute_statistics function. Since they're computed on a sample, these are called sample averages."
   ]
  },
  {
   "cell_type": "code",
   "execution_count": null,
   "metadata": {
    "pycharm": {
     "is_executing": true
    }
   },
   "outputs": [],
   "source": [
    "convenience_stats = compute_statistics(convenience_sample)\n",
    "convenience_stats\n",
    "\n"
   ]
  },
  {
   "cell_type": "code",
   "execution_count": null,
   "metadata": {
    "pycharm": {
     "is_executing": true
    }
   },
   "outputs": [],
   "source": [
    "# TEST\n",
    "len(convenience_stats) == 2\n",
    "\n"
   ]
  },
  {
   "cell_type": "code",
   "execution_count": null,
   "metadata": {
    "pycharm": {
     "is_executing": true
    }
   },
   "outputs": [],
   "source": [
    "# TEST \n",
    "round(float(convenience_stats[0]), 2) == 20.36\n",
    "\n"
   ]
  },
  {
   "cell_type": "code",
   "execution_count": null,
   "metadata": {
    "pycharm": {
     "is_executing": true
    }
   },
   "outputs": [],
   "source": [
    "# TEST\n",
    "round(float(convenience_stats[1]), 2) == 2383533.82\n",
    "\n"
   ]
  },
  {
   "cell_type": "markdown",
   "metadata": {},
   "source": [
    "Next, we'll compare the convenience sample salaries with the full data salaries in a single histogram. To do that, we'll need to use the bin_column option of the hist method, which indicates that all columns are counts of the bins in a particular column. The following cell does not require any changes; just run it."
   ]
  },
  {
   "cell_type": "code",
   "execution_count": null,
   "metadata": {
    "pycharm": {
     "is_executing": true
    }
   },
   "outputs": [],
   "source": [
    "def compare_salaries(first, second, first_title, second_title):\n",
    "    \"\"\"Compare the salaries in two tables.\"\"\"\n",
    "    first_salary_in_millions = first.column('Salary')/1000000\n",
    "    second_salary_in_millions = second.column('Salary')/1000000\n",
    "    first_tbl_millions = first.drop('Salary').with_column('Salary', first_salary_in_millions)\n",
    "    second_tbl_millions = second.drop('Salary').with_column('Salary', second_salary_in_millions)\n",
    "    max_salary = max(np.append(first_tbl_millions.column('Salary'), second_tbl_millions.column('Salary')))\n",
    "    bins = np.arange(0, max_salary+1, 1)\n",
    "    first_binned = first_tbl_millions.bin('Salary', bins=bins).relabeled(1, first_title)\n",
    "    second_binned = second_tbl_millions.bin('Salary', bins=bins).relabeled(1, second_title)\n",
    "    first_binned.join('bin', second_binned).hist(bin_column='bin', unit='million dollars')\n",
    "    plt.title('Salaries for all players and convenience sample')\n",
    "\n",
    "compare_salaries(full_data, convenience_sample, 'All Players', 'Convenience Sample')"
   ]
  },
  {
   "cell_type": "markdown",
   "metadata": {},
   "source": [
    "### Question 4 (10 points) \n",
    "Does the convenience sample give us an accurate picture of the salary of the full population? Would you expect it to, in general? Before you move on, write a short answer in English below. You can refer to the statistics calculated above or perform your own analysis."
   ]
  },
  {
   "cell_type": "code",
   "execution_count": null,
   "metadata": {
    "pycharm": {
     "is_executing": true
    }
   },
   "outputs": [],
   "source": [
    "### Please write your answer here (no code required)\n",
    "\n",
    "\"\"\"\n",
    "Answer:\n",
    "No, based on the analysis above, it does not give us an accurate picture from the convenience\n",
    "sample of the salary for all the players.\n",
    "And for the second question, since analysis is based on the the player whose age is under 22,\n",
    "so in general i would not expect it to.\n",
    "\n",
    "\n",
    "\n",
    "\"\"\""
   ]
  },
  {
   "cell_type": "markdown",
   "metadata": {},
   "source": [
    "### Simple random sampling\n",
    "A more justifiable approach is to sample uniformly at random from the players.  In a **simple random sample (SRS) without replacement**, we ensure that each player is selected at most once. Imagine writing down each player's name on a card, putting the cards in an box, and shuffling the box.  Then, pull out cards one by one and set them aside, stopping when the specified sample size is reached."
   ]
  },
  {
   "cell_type": "markdown",
   "metadata": {},
   "source": [
    "### Producing simple random samples\n",
    "Sometimes, it’s useful to take random samples even when we have the data for the whole population. It helps us understand sampling accuracy.\n",
    "\n",
    "### `sample`\n",
    "\n",
    "The table method `sample` produces a random sample from the table. By default, it draws at random **with replacement** from the rows of a table. It takes in the sample size as its argument and returns a **table** with only the rows that were selected. \n",
    "\n",
    "Run the cell below to see an example call to `sample()` with a sample size of 5, with replacement."
   ]
  },
  {
   "cell_type": "code",
   "execution_count": null,
   "metadata": {
    "pycharm": {
     "is_executing": true
    }
   },
   "outputs": [],
   "source": [
    "# Just run this cell\n",
    "\n",
    "salary_data.sample(5)"
   ]
  },
  {
   "cell_type": "markdown",
   "metadata": {},
   "source": [
    "The optional argument with_replacement=False can be passed through sample() to specify that the sample should be drawn without replacement.\n",
    "\n",
    "Run the cell below to see an example call to sample() with a sample size of 5, without replacement."
   ]
  },
  {
   "cell_type": "code",
   "execution_count": null,
   "metadata": {
    "pycharm": {
     "is_executing": true
    }
   },
   "outputs": [],
   "source": [
    "# Just run this cell\n",
    "\n",
    "salary_data.sample(5, with_replacement=False)"
   ]
  },
  {
   "cell_type": "markdown",
   "metadata": {},
   "source": [
    "### Question 5 (10 points) \n",
    "Produce a simple random sample of size 44 from `full_data`. Run your analysis on it again.  Run the cell a few times to see how the histograms and statistics change across different samples."
   ]
  },
  {
   "cell_type": "code",
   "execution_count": null,
   "metadata": {
    "pycharm": {
     "is_executing": true
    }
   },
   "outputs": [],
   "source": [
    "my_small_srswor_data = full_data.sample(44, with_replacement=False)\n",
    "my_small_stats = compute_statistics(my_small_srswor_data)\n",
    "my_small_stats"
   ]
  },
  {
   "cell_type": "markdown",
   "metadata": {},
   "source": [
    "Before you move on, write a short answer for the following questions in English:\n",
    "\n",
    "(1) How much does the average age change across samples?\n",
    "\n",
    "(2) What about average salary?"
   ]
  },
  {
   "cell_type": "code",
   "execution_count": null,
   "metadata": {
    "pycharm": {
     "is_executing": true
    }
   },
   "outputs": [],
   "source": [
    "### Please write your answer here (no code required)\n",
    "\n",
    "\"\"\"\n",
    "Answer: \n",
    "\n",
    "1) We do not see much change on average age. Average age is almost like same due to small range of age.\n",
    "\n",
    "2) Based on the analysis, average salary is varying. people having age less than 22 is havinf less\n",
    "salry where as people having age more tha 22 is having more salary. so, salary is varying in\n",
    "this case.\n",
    "\"\"\""
   ]
  },
  {
   "cell_type": "markdown",
   "metadata": {},
   "source": [
    "### Question 6 (15 points) - Optional/ Additional extra credit if you loose marks on above questions\n",
    "As in the previous question, analyze several simple random samples of size 100 from `full_data`.  "
   ]
  },
  {
   "cell_type": "code",
   "execution_count": null,
   "metadata": {
    "pycharm": {
     "is_executing": true
    }
   },
   "outputs": [],
   "source": [
    "my_large_srswor_data =full_data.sample(100, with_replacement=False)\n",
    "my_large_stats = compute_statistics(my_large_srswor_data)\n",
    "my_large_stats"
   ]
  },
  {
   "cell_type": "markdown",
   "metadata": {},
   "source": [
    "Answer the following questions in English:\n",
    "\n",
    "(1) Do the histogram shapes seem to change more or less across samples of 100 than across samples of size 44?\n",
    "\n",
    "(2) Are the sample averages and histograms closer to their true values/shape for age or for salary? What did you expect to see?"
   ]
  },
  {
   "cell_type": "code",
   "execution_count": null,
   "metadata": {
    "pycharm": {
     "is_executing": true
    }
   },
   "outputs": [],
   "source": [
    "### Please write your answer here (no code required)\n",
    "\n",
    "\"\"\"\n",
    "Answer: \n",
    "1) Ans: yes, we are seeing change in salary. we are seeing decrease in x-axis and\n",
    "increase in y-axis\n",
    "\n",
    "2) Ans: sample average and histogram are closer to their true values because we are able to\n",
    "increase in sample size with each repetition.\n",
    "\n",
    "\n",
    "\"\"\""
   ]
  }
 ],
 "metadata": {
  "kernelspec": {
   "display_name": "Python 3 (ipykernel)",
   "language": "python",
   "name": "python3"
  },
  "language_info": {
   "codemirror_mode": {
    "name": "ipython",
    "version": 3
   },
   "file_extension": ".py",
   "mimetype": "text/x-python",
   "name": "python",
   "nbconvert_exporter": "python",
   "pygments_lexer": "ipython3",
   "version": "3.9.12"
  }
 },
 "nbformat": 4,
 "nbformat_minor": 4
}