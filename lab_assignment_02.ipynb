{
 "cells": [
  {
   "cell_type": "markdown",
   "metadata": {
    "colab_type": "text",
    "id": "Ryk8D1Q4Wsrp"
   },
   "source": [
    "# **The second Lab-assignment (07/19/2022 11:59'AM' - 07/22/2022 11:59PM, 50 points in total)**"
   ]
  },
  {
   "cell_type": "markdown",
   "metadata": {
    "colab_type": "text",
    "id": "90_NR8c5XGWc"
   },
   "source": [
    "# Question 1\n",
    "\n",
    "(5 points). Write a Python program to generate 12 random numbers between 1 and 100. Sort the list of numbers in ascending order and print it out. Sort the list of numbers in descending order and print it out. Calculate the average for the group and print it out."
   ]
  },
  {
   "cell_type": "code",
   "execution_count": null,
   "metadata": {
    "colab": {},
    "colab_type": "code",
    "id": "5QX6bJjGWXY9"
   },
   "outputs": [],
   "source": [
    "# Your code here\n",
    "import random\n",
    "\n",
    "randomNum = random.sample(range(1, 100), 12)\n",
    "print(\"Value: \")\n",
    "print(randomNum)\n",
    "\n",
    "randomNum.sort()\n",
    "print(\"\\nAscending order:\\n\", randomNum)\n",
    "\n",
    "randomNum.sort(reverse=True)\n",
    "print(\"\\nDescending order:\\n\", randomNum)\n",
    "\n",
    "print(\"\\nAverage:\")\n",
    "sum_result = 0\n",
    "for y in randomNum:\n",
    "    sum_result += y\n",
    "average = sum_result / len(randomNum)\n",
    "print(average)\n",
    "\n"
   ]
  },
  {
   "cell_type": "markdown",
   "metadata": {
    "colab_type": "text",
    "id": "CmFoI4jDS9nx"
   },
   "source": [
    "# Question 2 \n",
    "\n",
    "(5 points). The formula that describes the volume V of a sphere with radius r is the following:\n",
    "\n",
    "$ V=\\frac{4}{3}\\ast\\ \\pi\\ast\\ r^3 $\n",
    "\n",
    "Write a program to calculate the value of V when r is in the range of 1–10. Output the result in the following format:\n",
    "\n",
    "\tr\tV\n",
    "\t1\t…\n",
    "\t2\t…\n",
    "\t3\t…\n"
   ]
  },
  {
   "cell_type": "code",
   "execution_count": null,
   "metadata": {
    "colab": {},
    "colab_type": "code",
    "id": "pEyqeioAT95b"
   },
   "outputs": [],
   "source": [
    "# Your code here\n",
    "\n",
    "\n",
    "print(\"r\\t V\")\n",
    "for r in range(1, 11):\n",
    "    volume = 4/3*3.1416*r*r*r\n",
    "    print(r, \"\\t\", volume)\n"
   ]
  },
  {
   "cell_type": "markdown",
   "metadata": {
    "colab_type": "text",
    "id": "z3tBE7E-Xn5X"
   },
   "source": [
    "# Question 3\n",
    "\n",
    "(40 points). In the field of Data Science, data is often formatted as a comma-delimited (CSV) file, where each line in a file corresponds to a field's value. Refer to Chapter 9 (p. 106) for more information on comma-delimited files. To answer this question, you will need to download the file [lab_assignment_02_denton_housing.csv](https://github.com/suthapalliuday/INFO5502-Summer2022/blob/main/datasets/lab_assignment_02_denton_housing.csv) included with this assignment. The file [lab_assignment_02_denton_housing.csv](https://github.com/suthapalliuday/INFO5502-Summer2022/blob/main/datasets/lab_assignment_02_denton_housing.csv) contains statistics about housing in the city of Denton from 2008 to 2014. Write a program to implement the following questions.\n",
    "\n",
    "(1) (10 pts) Calculate the difference in the number of Occupied Housing Units from year to year and print it. The difference must be calculated for the consecutive years such as 2008-2009, 2009-2010 etc. Finally, print the values in the ascending order.\n",
    "\n",
    "(2) (10 pts) For all the years, calculate the percentage of housing units which are vacant an occupied. Print the results in the following format:\n",
    "\n",
    "Year Vacant Housing Units Occupied Housing Units\n",
    "\n",
    "    2008  30%   70%                          \n",
    "\t2009 ----- -----\n",
    "\t2010 ----- -----\n",
    "    2011 ----- -----\n",
    "\t2012 ----- -----\n",
    "    2013 ----- -----\n",
    "\t2014 ----- -----\n",
    "  \n",
    "  \n",
    "\n",
    "(3) (10 pts) Calculate and print the valued and years in which the highest number of housing units were vacant and occupied. Print the results in the following format:  \n",
    "\n",
    "                              Year\tValue\n",
    "\tVacant Housing Units\t  -----   -----\n",
    "\tOccupied Housing Units\t-----   -----\n",
    "\n",
    "(4) (10 pts) Calculate the harmonic mean of the total housing units and print it out. You can find the information about harmonic mean here: https://ncalculators.com/statistics/harmonic-mean-calculator.htm"
   ]
  },
  {
   "cell_type": "code",
   "execution_count": null,
   "metadata": {
    "colab": {},
    "colab_type": "code",
    "id": "lqGYuHBhcsRH"
   },
   "outputs": [],
   "source": [
    "# Your code here\n",
    "import pandas as pd\n",
    "import statistics\n",
    "\n",
    "house_units = pd.read_csv('lab_assignment_02_denton_housing.csv')\n",
    "\n",
    "#Question-1\n",
    "#to find diffrence in the number of occupied housing unit from year to year\n",
    "houses_taken = house_units[house_units['title_field'] == 'Occupied Housing Units'].sort_values(by=['year'])\n",
    "subtract_value = []\n",
    "for x in range(len(houses_taken)-1):\n",
    "    subtract_value.append(list(houses_taken['value'].values)[x] - list(houses_taken['value'].values)[x + 1])\n",
    "subtract_value.sort()\n",
    "print(subtract_value)\n",
    "\n",
    "#Question-2\n",
    "#solution to dislay percentage of vacant and occupied house\n",
    "display_years = sorted(list(house_units['year'].unique()))\n",
    "houses_occupied = house_units[house_units['title_field'] == 'Occupied Housing Units'].sort_values(by=['year'])\n",
    "vacant_houses = house_units[house_units['title_field'] == 'Vacant Housing Units'].sort_values(by=['year'])\n",
    "\n",
    "#using dataframe from panda to display tabular form\n",
    "housing_unit = pd.DataFrame()\n",
    "housing_unit['Year'] = display_years\n",
    "housing_unit['Vacant'] = vacant_houses['value'].values\n",
    "housing_unit['Occupied'] = houses_occupied['value'].values\n",
    "\n",
    "#to get all vacant house\n",
    "vacant_housing_unit = []\n",
    "for y in range(len(housing_unit)):\n",
    "    vacant_housing_unit.append((housing_unit['Vacant'][y] * 100) / (housing_unit['Vacant'][y] + housing_unit['Occupied'][y]))\n",
    "\n",
    "housing_unit['Vacant Housing Units'] = vacant_housing_unit\n",
    "\n",
    "#to get all occupied house\n",
    "\n",
    "occupied_housing_unit = []\n",
    "for z in range(len(housing_unit)):\n",
    "    occupied_housing_unit.append((housing_unit['Occupied'][z] * 100) / (housing_unit['Vacant'][z] + housing_unit['Occupied'][z]))\n",
    "\n",
    "housing_unit['Occupied Housing Units'] = occupied_housing_unit\n",
    "\n",
    "housing_unit.pop('Vacant')\n",
    "housing_unit.pop('Occupied')\n",
    "# output = housing_unit[[\"Year\", \"Vacant Housing Units\", \"Occupied Housing Units\"]]\n",
    "print(housing_unit)\n",
    "\n",
    "#Question-3\n",
    "\n",
    "maximum_housing_value = pd.DataFrame()\n",
    "maximum_vacant = max(house_units[house_units['title_field'] == 'Vacant Housing Units'].value)\n",
    "maximum_occupied = max(house_units[house_units['title_field'] == 'Occupied Housing Units'].value)\n",
    "vacant_houses_year = house_units[house_units['title_field'] == 'Vacant Housing Units'].sort_values(by=['year'])\n",
    "occupied_houses_year = house_units[house_units['title_field'] == 'Occupied Housing Units'].sort_values(by=['year'])\n",
    "maximum_occupied_year = occupied_houses_year[occupied_houses_year['value'] == maximum_occupied]\n",
    "maximum_vacant_year = vacant_houses_year[vacant_houses_year['value'] == maximum_vacant]\n",
    "maximum_housing_value[\"\"] = [\"Vacant Housing Units\", \"Occupied Housing Units\"]\n",
    "maximum_housing_value[\"Year\"] = [maximum_vacant_year.iat[0, 0], maximum_occupied_year.iat[0, 0]]\n",
    "maximum_housing_value[\"Value\"] = [maximum_vacant, maximum_occupied]\n",
    "output = maximum_housing_value[[\"\", \"Year\", \"Value\"]]\n",
    "print(output)\n",
    "\n",
    "\n",
    "#Question-4\n",
    "\n",
    "print(statistics.harmonic_mean(list(house_units[house_units['title_field'] == 'Total Housing Units'].value)))\n",
    "\n"
   ]
  }
 ],
 "metadata": {
  "colab": {
   "authorship_tag": "ABX9TyOAjsNCkNulTpzgRQbHdy3f",
   "collapsed_sections": [],
   "include_colab_link": true,
   "name": "INFO5731_Assignment_One.ipynb",
   "provenance": []
  },
  "kernelspec": {
   "display_name": "Python 3 (ipykernel)",
   "language": "python",
   "name": "python3"
  },
  "language_info": {
   "codemirror_mode": {
    "name": "ipython",
    "version": 3
   },
   "file_extension": ".py",
   "mimetype": "text/x-python",
   "name": "python",
   "nbconvert_exporter": "python",
   "pygments_lexer": "ipython3",
   "version": "3.9.12"
  }
 },
 "nbformat": 4,
 "nbformat_minor": 1
}
